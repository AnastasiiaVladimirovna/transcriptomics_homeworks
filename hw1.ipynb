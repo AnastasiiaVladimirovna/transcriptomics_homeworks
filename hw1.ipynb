{
  "cells": [
    {
      "cell_type": "markdown",
      "metadata": {
        "id": "view-in-github",
        "colab_type": "text"
      },
      "source": [
        "<a href=\"https://colab.research.google.com/github/AnastasiiaVladimirovna/transcriptomics_homeworks/blob/main/hw1.ipynb\" target=\"_parent\"><img src=\"https://colab.research.google.com/assets/colab-badge.svg\" alt=\"Open In Colab\"/></a>"
      ]
    },
    {
      "cell_type": "code",
      "execution_count": null,
      "metadata": {
        "id": "seMkqnfw7DJo"
      },
      "outputs": [],
      "source": [
        "!wget https://ftp-trace.ncbi.nlm.nih.gov/sra/sdk/3.0.0/sratoolkit.3.0.0-ubuntu64.tar.gz"
      ]
    },
    {
      "cell_type": "code",
      "execution_count": null,
      "metadata": {
        "id": "TF2xUtcH7gyG"
      },
      "outputs": [],
      "source": [
        "!tar -xvzf sratoolkit.3.0.0-ubuntu64.tar.gz"
      ]
    },
    {
      "cell_type": "code",
      "execution_count": null,
      "metadata": {
        "id": "Bdt62ehY7mCm"
      },
      "outputs": [],
      "source": [
        "!sratoolkit.3.0.0-ubuntu64/bin/vdb-config -i"
      ]
    },
    {
      "cell_type": "code",
      "execution_count": null,
      "metadata": {
        "colab": {
          "base_uri": "https://localhost:8080/"
        },
        "id": "nYqRoGmD7pbl",
        "outputId": "cf283e0e-def9-4be5-9b93-ae258832c09b"
      },
      "outputs": [
        {
          "output_type": "stream",
          "name": "stdout",
          "text": [
            "spots read      : 4,941,237\n",
            "reads read      : 9,882,474\n",
            "reads written   : 9,882,474\n"
          ]
        }
      ],
      "source": [
        "# !sratoolkit.3.0.0-ubuntu64/bin/fasterq-dump SRR3900953"
      ]
    },
    {
      "cell_type": "code",
      "execution_count": null,
      "metadata": {
        "id": "UbaZ4WNH-FBN"
      },
      "outputs": [],
      "source": [
        "!curl -fsSL https://get.nextflow.io | bash"
      ]
    },
    {
      "cell_type": "markdown",
      "source": [
        "Создаем файл который представлен ниже"
      ],
      "metadata": {
        "id": "LoInE0J3Lodi"
      }
    },
    {
      "cell_type": "markdown",
      "source": [
        "```\n",
        "params.results_dir = \"results/\"\n",
        "SRA_list = params.SRA.split(\",\")\n",
        "\n",
        "log.info \"\"\n",
        "log.info \"  Q U A L I T Y   C O N T R O L  \"\n",
        "log.info \"=================================\"\n",
        "log.info \"SRA number         : ${SRA_list}\"\n",
        "log.info \"Results location   : ${params.results_dir}\"\n",
        "\n",
        "process DownloadFastQ {\n",
        "  publishDir \"${params.results_dir}\"\n",
        "\n",
        "  input:\n",
        "    val sra\n",
        "\n",
        "  output:\n",
        "    path \"${sra}/*\"\n",
        "\n",
        "  script:\n",
        "    \"\"\"\n",
        "    /content/sratoolkit.3.0.0-ubuntu64/bin/fasterq-dump ${sra} -O ${sra}/\n",
        "    \"\"\"\n",
        "}\n",
        "\n",
        "\n",
        "\n",
        "workflow {\n",
        "  data = Channel.of( SRA_list )\n",
        "  DownloadFastQ(data)\n",
        "}\n",
        "```"
      ],
      "metadata": {
        "id": "kcDrhuQFlsev"
      }
    },
    {
      "cell_type": "markdown",
      "source": [
        "Запускаем"
      ],
      "metadata": {
        "id": "e23GNAZULt4r"
      }
    },
    {
      "cell_type": "code",
      "source": [
        "!./nextflow run my_pipeline.nf --SRA SRR6410607,SRR6410608"
      ],
      "metadata": {
        "colab": {
          "base_uri": "https://localhost:8080/"
        },
        "id": "raRYCPWaiSp8",
        "outputId": "de4fb0d2-f0df-4478-f718-e8fe7a90a1ee"
      },
      "execution_count": null,
      "outputs": [
        {
          "output_type": "stream",
          "name": "stdout",
          "text": [
            "N E X T F L O W  ~  version 22.10.4\n",
            "Launching `my_pipeline.nf` [cranky_boyd] DSL2 - revision: 5ab70fbbe8\n",
            "\n",
            "  Q U A L I T Y   C O N T R O L  \n",
            "=================================\n",
            "SRA number         : [SRR6410607, SRR6410608]\n",
            "Results location   : results/\n",
            "[-        ] process > DownloadFastQ -\u001b[K\n",
            "\u001b[2A\n",
            "executor >  local (2)\u001b[K\n",
            "[d7/5afba9] process > DownloadFastQ (2) [  0%] 0 of 2\u001b[K\n",
            "\u001b[3A\n",
            "executor >  local (2)\u001b[K\n",
            "[d7/5afba9] process > DownloadFastQ (2) [  0%] 0 of 2\u001b[K\n",
            "\u001b[3A\n",
            "executor >  local (2)\u001b[K\n",
            "[d7/5afba9] process > DownloadFastQ (2) [ 50%] 1 of 2\u001b[K\n",
            "\u001b[3A\n",
            "executor >  local (2)\u001b[K\n",
            "[d1/eab4d4] process > DownloadFastQ (1) [100%] 2 of 2 ✔\u001b[K\n",
            "\u001b[3A\n",
            "executor >  local (2)\u001b[K\n",
            "[d1/eab4d4] process > DownloadFastQ (1) [100%] 2 of 2 ✔\u001b[K\n",
            "\u001b[32;1mCompleted at: 16-Dec-2022 16:55:34\n",
            "Duration    : 17m 28s\n",
            "CPU hours   : 0.6\n",
            "Succeeded   : 2\n",
            "\u001b[22;39m\u001b[K\n",
            "\n"
          ]
        }
      ]
    },
    {
      "cell_type": "markdown",
      "source": [
        "Получилось"
      ],
      "metadata": {
        "id": "Lz2EQO1fLwR9"
      }
    }
  ],
  "metadata": {
    "colab": {
      "provenance": [],
      "authorship_tag": "ABX9TyPygBz+RMZknO//CBQlTZK7",
      "include_colab_link": true
    },
    "kernelspec": {
      "display_name": "Python 3",
      "name": "python3"
    },
    "language_info": {
      "name": "python"
    }
  },
  "nbformat": 4,
  "nbformat_minor": 0
}