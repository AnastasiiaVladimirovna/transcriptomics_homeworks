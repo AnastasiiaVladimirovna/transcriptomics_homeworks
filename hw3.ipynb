{
  "nbformat": 4,
  "nbformat_minor": 0,
  "metadata": {
    "colab": {
      "provenance": [],
      "authorship_tag": "ABX9TyNPeqxtclOOxhjrUPVAk+X/",
      "include_colab_link": true
    },
    "kernelspec": {
      "name": "python3",
      "display_name": "Python 3"
    },
    "language_info": {
      "name": "python"
    }
  },
  "cells": [
    {
      "cell_type": "markdown",
      "metadata": {
        "id": "view-in-github",
        "colab_type": "text"
      },
      "source": [
        "<a href=\"https://colab.research.google.com/github/AnastasiiaVladimirovna/transcriptomics_homeworks/blob/main/hw3.ipynb\" target=\"_parent\"><img src=\"https://colab.research.google.com/assets/colab-badge.svg\" alt=\"Open In Colab\"/></a>"
      ]
    },
    {
      "cell_type": "markdown",
      "source": [
        "## Номер 1"
      ],
      "metadata": {
        "id": "WQV8I9QxvQfm"
      }
    },
    {
      "cell_type": "code",
      "execution_count": null,
      "metadata": {
        "id": "cDTCHnTuEc1k"
      },
      "outputs": [],
      "source": [
        "# Загрузка R magic\n",
        "%load_ext rpy2.ipython\n",
        "\n",
        "# Установка нужных пакетов\n",
        "!Rscript -e 'install.packages(\"fitdistrplus\", repos=\"https://cloud.r-project.org\")'\n",
        "\n",
        "# Загрузка датасета\n",
        "!gdown --id 1nlpCcK6LoqEJnvCqEdcUFNElZSoz_3Kg"
      ]
    },
    {
      "cell_type": "code",
      "source": [
        "import pandas as pd\n",
        "import seaborn as sns\n",
        "import matplotlib.pyplot as plt\n",
        "import numpy as np\n",
        "\n",
        "# Настройка отображения\n",
        "plt.rcParams[\"figure.dpi\"] = 100"
      ],
      "metadata": {
        "id": "DndQAMLYExtB"
      },
      "execution_count": null,
      "outputs": []
    },
    {
      "cell_type": "code",
      "source": [
        "df = pd.read_csv(\"LUAD_counts.tsv\", sep=\"\\t\")\n",
        "df.index = [gene.split(\".\")[0] for gene in df.gene_name]\n",
        "del df[\"gene_name\"]\n",
        "df = df.T"
      ],
      "metadata": {
        "id": "lfpITuH7E0Ih"
      },
      "execution_count": null,
      "outputs": []
    },
    {
      "cell_type": "code",
      "source": [
        "df.head()"
      ],
      "metadata": {
        "colab": {
          "base_uri": "https://localhost:8080/",
          "height": 299
        },
        "id": "xlq-ngywCrNz",
        "outputId": "952591bb-391f-48c6-87a2-ca8d983790a3"
      },
      "execution_count": null,
      "outputs": [
        {
          "output_type": "execute_result",
          "data": {
            "text/plain": [
              "          TSPAN6  TNMD  DPM1  SCYL3  C1orf112   FGR    CFH  FUCA2   GCLC  \\\n",
              "sample_0    4275     0  1071    630       542   372  10445   6760  31744   \n",
              "sample_1    1536     0   765    510       172   911   4290   1097    807   \n",
              "sample_2    5009    13  2731    919       321  2299   9368   3812   2704   \n",
              "sample_3    1889     0  1941    548       301   879   5994   2310   2552   \n",
              "sample_4    1329     0  1395    297       320   387   6215   3142    685   \n",
              "\n",
              "          NFYA  ...  ACTL10  AC119733  AC020765  AC010980  AC004233  AL451106  \\\n",
              "sample_0  2022  ...       0         0         0        11         0         0   \n",
              "sample_1  1043  ...       0         0         0        15         1         0   \n",
              "sample_2  2496  ...       0         0         0        36         2         0   \n",
              "sample_3  1332  ...       0         0         1        17         0         0   \n",
              "sample_4  1676  ...       0         0         0         9         3         0   \n",
              "\n",
              "          AC008763  AC006486  AL391628  AP006621  \n",
              "sample_0         0         0         6        10  \n",
              "sample_1         1         0         6         9  \n",
              "sample_2         0         0        15        18  \n",
              "sample_3         0         0         3        22  \n",
              "sample_4         0         0         2         9  \n",
              "\n",
              "[5 rows x 19962 columns]"
            ],
            "text/html": [
              "\n",
              "  <div id=\"df-c29b2804-4b7c-4e1a-bcba-6535d04fac21\">\n",
              "    <div class=\"colab-df-container\">\n",
              "      <div>\n",
              "<style scoped>\n",
              "    .dataframe tbody tr th:only-of-type {\n",
              "        vertical-align: middle;\n",
              "    }\n",
              "\n",
              "    .dataframe tbody tr th {\n",
              "        vertical-align: top;\n",
              "    }\n",
              "\n",
              "    .dataframe thead th {\n",
              "        text-align: right;\n",
              "    }\n",
              "</style>\n",
              "<table border=\"1\" class=\"dataframe\">\n",
              "  <thead>\n",
              "    <tr style=\"text-align: right;\">\n",
              "      <th></th>\n",
              "      <th>TSPAN6</th>\n",
              "      <th>TNMD</th>\n",
              "      <th>DPM1</th>\n",
              "      <th>SCYL3</th>\n",
              "      <th>C1orf112</th>\n",
              "      <th>FGR</th>\n",
              "      <th>CFH</th>\n",
              "      <th>FUCA2</th>\n",
              "      <th>GCLC</th>\n",
              "      <th>NFYA</th>\n",
              "      <th>...</th>\n",
              "      <th>ACTL10</th>\n",
              "      <th>AC119733</th>\n",
              "      <th>AC020765</th>\n",
              "      <th>AC010980</th>\n",
              "      <th>AC004233</th>\n",
              "      <th>AL451106</th>\n",
              "      <th>AC008763</th>\n",
              "      <th>AC006486</th>\n",
              "      <th>AL391628</th>\n",
              "      <th>AP006621</th>\n",
              "    </tr>\n",
              "  </thead>\n",
              "  <tbody>\n",
              "    <tr>\n",
              "      <th>sample_0</th>\n",
              "      <td>4275</td>\n",
              "      <td>0</td>\n",
              "      <td>1071</td>\n",
              "      <td>630</td>\n",
              "      <td>542</td>\n",
              "      <td>372</td>\n",
              "      <td>10445</td>\n",
              "      <td>6760</td>\n",
              "      <td>31744</td>\n",
              "      <td>2022</td>\n",
              "      <td>...</td>\n",
              "      <td>0</td>\n",
              "      <td>0</td>\n",
              "      <td>0</td>\n",
              "      <td>11</td>\n",
              "      <td>0</td>\n",
              "      <td>0</td>\n",
              "      <td>0</td>\n",
              "      <td>0</td>\n",
              "      <td>6</td>\n",
              "      <td>10</td>\n",
              "    </tr>\n",
              "    <tr>\n",
              "      <th>sample_1</th>\n",
              "      <td>1536</td>\n",
              "      <td>0</td>\n",
              "      <td>765</td>\n",
              "      <td>510</td>\n",
              "      <td>172</td>\n",
              "      <td>911</td>\n",
              "      <td>4290</td>\n",
              "      <td>1097</td>\n",
              "      <td>807</td>\n",
              "      <td>1043</td>\n",
              "      <td>...</td>\n",
              "      <td>0</td>\n",
              "      <td>0</td>\n",
              "      <td>0</td>\n",
              "      <td>15</td>\n",
              "      <td>1</td>\n",
              "      <td>0</td>\n",
              "      <td>1</td>\n",
              "      <td>0</td>\n",
              "      <td>6</td>\n",
              "      <td>9</td>\n",
              "    </tr>\n",
              "    <tr>\n",
              "      <th>sample_2</th>\n",
              "      <td>5009</td>\n",
              "      <td>13</td>\n",
              "      <td>2731</td>\n",
              "      <td>919</td>\n",
              "      <td>321</td>\n",
              "      <td>2299</td>\n",
              "      <td>9368</td>\n",
              "      <td>3812</td>\n",
              "      <td>2704</td>\n",
              "      <td>2496</td>\n",
              "      <td>...</td>\n",
              "      <td>0</td>\n",
              "      <td>0</td>\n",
              "      <td>0</td>\n",
              "      <td>36</td>\n",
              "      <td>2</td>\n",
              "      <td>0</td>\n",
              "      <td>0</td>\n",
              "      <td>0</td>\n",
              "      <td>15</td>\n",
              "      <td>18</td>\n",
              "    </tr>\n",
              "    <tr>\n",
              "      <th>sample_3</th>\n",
              "      <td>1889</td>\n",
              "      <td>0</td>\n",
              "      <td>1941</td>\n",
              "      <td>548</td>\n",
              "      <td>301</td>\n",
              "      <td>879</td>\n",
              "      <td>5994</td>\n",
              "      <td>2310</td>\n",
              "      <td>2552</td>\n",
              "      <td>1332</td>\n",
              "      <td>...</td>\n",
              "      <td>0</td>\n",
              "      <td>0</td>\n",
              "      <td>1</td>\n",
              "      <td>17</td>\n",
              "      <td>0</td>\n",
              "      <td>0</td>\n",
              "      <td>0</td>\n",
              "      <td>0</td>\n",
              "      <td>3</td>\n",
              "      <td>22</td>\n",
              "    </tr>\n",
              "    <tr>\n",
              "      <th>sample_4</th>\n",
              "      <td>1329</td>\n",
              "      <td>0</td>\n",
              "      <td>1395</td>\n",
              "      <td>297</td>\n",
              "      <td>320</td>\n",
              "      <td>387</td>\n",
              "      <td>6215</td>\n",
              "      <td>3142</td>\n",
              "      <td>685</td>\n",
              "      <td>1676</td>\n",
              "      <td>...</td>\n",
              "      <td>0</td>\n",
              "      <td>0</td>\n",
              "      <td>0</td>\n",
              "      <td>9</td>\n",
              "      <td>3</td>\n",
              "      <td>0</td>\n",
              "      <td>0</td>\n",
              "      <td>0</td>\n",
              "      <td>2</td>\n",
              "      <td>9</td>\n",
              "    </tr>\n",
              "  </tbody>\n",
              "</table>\n",
              "<p>5 rows × 19962 columns</p>\n",
              "</div>\n",
              "      <button class=\"colab-df-convert\" onclick=\"convertToInteractive('df-c29b2804-4b7c-4e1a-bcba-6535d04fac21')\"\n",
              "              title=\"Convert this dataframe to an interactive table.\"\n",
              "              style=\"display:none;\">\n",
              "        \n",
              "  <svg xmlns=\"http://www.w3.org/2000/svg\" height=\"24px\"viewBox=\"0 0 24 24\"\n",
              "       width=\"24px\">\n",
              "    <path d=\"M0 0h24v24H0V0z\" fill=\"none\"/>\n",
              "    <path d=\"M18.56 5.44l.94 2.06.94-2.06 2.06-.94-2.06-.94-.94-2.06-.94 2.06-2.06.94zm-11 1L8.5 8.5l.94-2.06 2.06-.94-2.06-.94L8.5 2.5l-.94 2.06-2.06.94zm10 10l.94 2.06.94-2.06 2.06-.94-2.06-.94-.94-2.06-.94 2.06-2.06.94z\"/><path d=\"M17.41 7.96l-1.37-1.37c-.4-.4-.92-.59-1.43-.59-.52 0-1.04.2-1.43.59L10.3 9.45l-7.72 7.72c-.78.78-.78 2.05 0 2.83L4 21.41c.39.39.9.59 1.41.59.51 0 1.02-.2 1.41-.59l7.78-7.78 2.81-2.81c.8-.78.8-2.07 0-2.86zM5.41 20L4 18.59l7.72-7.72 1.47 1.35L5.41 20z\"/>\n",
              "  </svg>\n",
              "      </button>\n",
              "      \n",
              "  <style>\n",
              "    .colab-df-container {\n",
              "      display:flex;\n",
              "      flex-wrap:wrap;\n",
              "      gap: 12px;\n",
              "    }\n",
              "\n",
              "    .colab-df-convert {\n",
              "      background-color: #E8F0FE;\n",
              "      border: none;\n",
              "      border-radius: 50%;\n",
              "      cursor: pointer;\n",
              "      display: none;\n",
              "      fill: #1967D2;\n",
              "      height: 32px;\n",
              "      padding: 0 0 0 0;\n",
              "      width: 32px;\n",
              "    }\n",
              "\n",
              "    .colab-df-convert:hover {\n",
              "      background-color: #E2EBFA;\n",
              "      box-shadow: 0px 1px 2px rgba(60, 64, 67, 0.3), 0px 1px 3px 1px rgba(60, 64, 67, 0.15);\n",
              "      fill: #174EA6;\n",
              "    }\n",
              "\n",
              "    [theme=dark] .colab-df-convert {\n",
              "      background-color: #3B4455;\n",
              "      fill: #D2E3FC;\n",
              "    }\n",
              "\n",
              "    [theme=dark] .colab-df-convert:hover {\n",
              "      background-color: #434B5C;\n",
              "      box-shadow: 0px 1px 3px 1px rgba(0, 0, 0, 0.15);\n",
              "      filter: drop-shadow(0px 1px 2px rgba(0, 0, 0, 0.3));\n",
              "      fill: #FFFFFF;\n",
              "    }\n",
              "  </style>\n",
              "\n",
              "      <script>\n",
              "        const buttonEl =\n",
              "          document.querySelector('#df-c29b2804-4b7c-4e1a-bcba-6535d04fac21 button.colab-df-convert');\n",
              "        buttonEl.style.display =\n",
              "          google.colab.kernel.accessAllowed ? 'block' : 'none';\n",
              "\n",
              "        async function convertToInteractive(key) {\n",
              "          const element = document.querySelector('#df-c29b2804-4b7c-4e1a-bcba-6535d04fac21');\n",
              "          const dataTable =\n",
              "            await google.colab.kernel.invokeFunction('convertToInteractive',\n",
              "                                                     [key], {});\n",
              "          if (!dataTable) return;\n",
              "\n",
              "          const docLinkHtml = 'Like what you see? Visit the ' +\n",
              "            '<a target=\"_blank\" href=https://colab.research.google.com/notebooks/data_table.ipynb>data table notebook</a>'\n",
              "            + ' to learn more about interactive tables.';\n",
              "          element.innerHTML = '';\n",
              "          dataTable['output_type'] = 'display_data';\n",
              "          await google.colab.output.renderOutput(dataTable, element);\n",
              "          const docLink = document.createElement('div');\n",
              "          docLink.innerHTML = docLinkHtml;\n",
              "          element.appendChild(docLink);\n",
              "        }\n",
              "      </script>\n",
              "    </div>\n",
              "  </div>\n",
              "  "
            ]
          },
          "metadata": {},
          "execution_count": 4
        }
      ]
    },
    {
      "cell_type": "code",
      "source": [
        "df = df[df >0].dropna(1)\n",
        "df = df.sample(n=30,axis='columns')"
      ],
      "metadata": {
        "id": "mRT5gF8xU5B5",
        "colab": {
          "base_uri": "https://localhost:8080/"
        },
        "outputId": "ded928f5-6901-40d8-e8d2-40e6f28e59ee"
      },
      "execution_count": null,
      "outputs": [
        {
          "output_type": "stream",
          "name": "stderr",
          "text": [
            "/usr/local/lib/python3.7/dist-packages/ipykernel_launcher.py:1: FutureWarning: In a future version of pandas all arguments of DataFrame.dropna will be keyword-only\n",
            "  \"\"\"Entry point for launching an IPython kernel.\n"
          ]
        }
      ]
    },
    {
      "cell_type": "code",
      "source": [
        "%%R\n",
        "library(fitdistrplus)"
      ],
      "metadata": {
        "id": "WJCrm7KcIrBn",
        "colab": {
          "base_uri": "https://localhost:8080/"
        },
        "outputId": "d9de4092-8fc7-4f4e-c5d4-c623581e5427"
      },
      "execution_count": null,
      "outputs": [
        {
          "output_type": "stream",
          "name": "stderr",
          "text": [
            "WARNING:rpy2.rinterface_lib.callbacks:R[write to console]: Loading required package: MASS\n",
            "\n",
            "WARNING:rpy2.rinterface_lib.callbacks:R[write to console]: Loading required package: survival\n",
            "\n"
          ]
        }
      ]
    },
    {
      "cell_type": "code",
      "source": [
        "%%R -i df\n",
        "test <- function(dataset = df, a){    \n",
        "\tsapply(dataset, function(x) fitdist(x, a)$aic)   \n",
        "}\n",
        "\n",
        "ans = sapply(c(\"norm\", \"nbinom\", \"lnorm\"), function(x) test(df, x))\n",
        "df1<-as.data.frame(ans)"
      ],
      "metadata": {
        "id": "C_F-fngxRoXx"
      },
      "execution_count": null,
      "outputs": []
    },
    {
      "cell_type": "code",
      "source": [
        "%%R\n",
        "library(tidyverse)"
      ],
      "metadata": {
        "id": "0IWvO8zDsd68",
        "colab": {
          "base_uri": "https://localhost:8080/"
        },
        "outputId": "51e6ab02-0a61-424f-beb1-0db706a2beb3"
      },
      "execution_count": null,
      "outputs": [
        {
          "output_type": "stream",
          "name": "stderr",
          "text": [
            "WARNING:rpy2.rinterface_lib.callbacks:R[write to console]: ── Attaching packages ─────────────────────────────────────── tidyverse 1.3.1 ──\n",
            "\n",
            "WARNING:rpy2.rinterface_lib.callbacks:R[write to console]: ✔ ggplot2 3.3.6      ✔ purrr   0.3.5 \n",
            "✔ tibble  3.1.7      ✔ dplyr   1.0.10\n",
            "✔ tidyr   1.2.1      ✔ stringr 1.4.1 \n",
            "✔ readr   2.1.3      ✔ forcats 0.5.2 \n",
            "\n",
            "WARNING:rpy2.rinterface_lib.callbacks:R[write to console]: ── Conflicts ────────────────────────────────────────── tidyverse_conflicts() ──\n",
            "✖ dplyr::filter() masks stats::filter()\n",
            "✖ dplyr::lag()    masks stats::lag()\n",
            "✖ dplyr::select() masks MASS::select()\n",
            "\n"
          ]
        }
      ]
    },
    {
      "cell_type": "code",
      "source": [
        "%%R\n",
        "df2 <- df1 %>%\n",
        "  pivot_longer(cols = norm:lnorm, names_to = 'distribution', values_to = 'aic')\n",
        "theme_set(theme_bw())\n",
        "p1 <- ggplot(df2) +\n",
        "  geom_boxplot(aes(x = distribution, y = aic, fill = distribution))+\n",
        "  theme(legend.position = \"none\")\n",
        "p1"
      ],
      "metadata": {
        "id": "mqRZGXnrF15v",
        "colab": {
          "base_uri": "https://localhost:8080/",
          "height": 497
        },
        "outputId": "c775ba31-d444-4859-8f6f-3f91d0687082"
      },
      "execution_count": null,
      "outputs": [
        {
          "output_type": "display_data",
          "data": {
            "image/png": "[encoded data removed]"
          },
          "metadata": {}
        }
      ]
    },
    {
      "cell_type": "markdown",
      "source": [
        "Из получившегося графика видно, что нормальное распределение является наименее правдоподобным для наших данных, а разница между Log Normal и Negative Binomial очень незначительная, но lnorm обычно (для нескольких разных случайных наборов генов) лучше подходит \n"
      ],
      "metadata": {
        "id": "jvN5GggTwC4U"
      }
    },
    {
      "cell_type": "markdown",
      "source": [
        "На Пуасонна тоже проверяла, но там совсем огромное значение aic было, и из-за этого разницу между другими боксплотами видно не было\n"
      ],
      "metadata": {
        "id": "Psdhk8Z4xVIu"
      }
    },
    {
      "cell_type": "markdown",
      "source": [
        "## Номер 2\n"
      ],
      "metadata": {
        "id": "UqnqUFquxGW5"
      }
    },
    {
      "cell_type": "markdown",
      "source": [
        "Технические образцы это технические реплики одного образца, то есть одна и та же библиотека, залитая в разные дорожки. \n",
        "Биологические реплики это про образцы, полученные из разных организмов. "
      ],
      "metadata": {
        "id": "V0KqQJ0GAV5j"
      }
    },
    {
      "cell_type": "code",
      "source": [
        "!gdown --id 1M8-86VecaYPERovPk4JKhT2lLa4PfJxi"
      ],
      "metadata": {
        "id": "dk4yGac0vmKs",
        "colab": {
          "base_uri": "https://localhost:8080/"
        },
        "outputId": "478127e4-4f91-4ed9-b9d4-08a0338d5d22"
      },
      "execution_count": null,
      "outputs": [
        {
          "output_type": "stream",
          "name": "stdout",
          "text": [
            "/usr/local/lib/python3.7/dist-packages/gdown/cli.py:131: FutureWarning: Option `--id` was deprecated in version 4.3.1 and will be removed in 5.0. You don't need to pass it anymore to use a file ID.\n",
            "  category=FutureWarning,\n",
            "Downloading...\n",
            "From: https://drive.google.com/uc?id=1M8-86VecaYPERovPk4JKhT2lLa4PfJxi\n",
            "To: /content/GSE29022_gene_counts.txt\n",
            "100% 2.76M/2.76M [00:00<00:00, 150MB/s]\n"
          ]
        }
      ]
    },
    {
      "cell_type": "code",
      "source": [
        "df = pd.read_table(\"GSE29022_gene_counts.txt\", sep=\"\\t\")\n",
        "# df = df.T"
      ],
      "metadata": {
        "id": "ak-4lQFBvmNg"
      },
      "execution_count": null,
      "outputs": []
    },
    {
      "cell_type": "code",
      "source": [
        "col = []\n",
        "for i in df.columns:\n",
        "  col.append(i.split('.')[-1])\n",
        "df.columns = col"
      ],
      "metadata": {
        "id": "Rle_Fv9jM6sY"
      },
      "execution_count": null,
      "outputs": []
    },
    {
      "cell_type": "code",
      "source": [
        "df1 = df.iloc[:, (df.columns == 'lane1') + (df.columns == 'lane2')]\n"
      ],
      "metadata": {
        "id": "8_OjkWX0QzgO"
      },
      "execution_count": null,
      "outputs": []
    },
    {
      "cell_type": "code",
      "source": [
        "df1 = df1.T\n",
        "df1.head()"
      ],
      "metadata": {
        "colab": {
          "base_uri": "https://localhost:8080/",
          "height": 235
        },
        "id": "4YJWby2FUV8a",
        "outputId": "d5ed6382-b8fd-41c4-8ec9-d355fba33713"
      },
      "execution_count": null,
      "outputs": [
        {
          "output_type": "execute_result",
          "data": {
            "text/plain": [
              "       0      1      2      3      4      5      6      7      8      9      \\\n",
              "lane1    794    466      3     80     19      0      6   1813     48     25   \n",
              "lane2    888    581      1     71     34      3      6   1962     64     23   \n",
              "lane1   1485    573      2    112     19     22      6   3240     68     16   \n",
              "lane2   1578    558      8    149     26     19      3   3380     49     15   \n",
              "lane1   1615    587      1    184     17     21      2   4251     81      9   \n",
              "\n",
              "       ...  17343  17344  17345  17346  17347  17348  17349  17350  17351  \\\n",
              "lane1  ...    181      0     16     53      0      8    214      0     32   \n",
              "lane2  ...    219      0     26     59      0     16    205      0     18   \n",
              "lane1  ...    213      0     21     35      2     16    212      0     38   \n",
              "lane2  ...    271      0     33     36      0     11    200      0     27   \n",
              "lane1  ...    465      0     22     43      0     16    329      1     64   \n",
              "\n",
              "       17352  \n",
              "lane1    169  \n",
              "lane2    162  \n",
              "lane1    363  \n",
              "lane2    436  \n",
              "lane1    453  \n",
              "\n",
              "[5 rows x 17353 columns]"
            ],
            "text/html": [
              "\n",
              "  <div id=\"df-1181662e-b18e-416b-a132-d0c52782031d\">\n",
              "    <div class=\"colab-df-container\">\n",
              "      <div>\n",
              "<style scoped>\n",
              "    .dataframe tbody tr th:only-of-type {\n",
              "        vertical-align: middle;\n",
              "    }\n",
              "\n",
              "    .dataframe tbody tr th {\n",
              "        vertical-align: top;\n",
              "    }\n",
              "\n",
              "    .dataframe thead th {\n",
              "        text-align: right;\n",
              "    }\n",
              "</style>\n",
              "<table border=\"1\" class=\"dataframe\">\n",
              "  <thead>\n",
              "    <tr style=\"text-align: right;\">\n",
              "      <th></th>\n",
              "      <th>0</th>\n",
              "      <th>1</th>\n",
              "      <th>2</th>\n",
              "      <th>3</th>\n",
              "      <th>4</th>\n",
              "      <th>5</th>\n",
              "      <th>6</th>\n",
              "      <th>7</th>\n",
              "      <th>8</th>\n",
              "      <th>9</th>\n",
              "      <th>...</th>\n",
              "      <th>17343</th>\n",
              "      <th>17344</th>\n",
              "      <th>17345</th>\n",
              "      <th>17346</th>\n",
              "      <th>17347</th>\n",
              "      <th>17348</th>\n",
              "      <th>17349</th>\n",
              "      <th>17350</th>\n",
              "      <th>17351</th>\n",
              "      <th>17352</th>\n",
              "    </tr>\n",
              "  </thead>\n",
              "  <tbody>\n",
              "    <tr>\n",
              "      <th>lane1</th>\n",
              "      <td>794</td>\n",
              "      <td>466</td>\n",
              "      <td>3</td>\n",
              "      <td>80</td>\n",
              "      <td>19</td>\n",
              "      <td>0</td>\n",
              "      <td>6</td>\n",
              "      <td>1813</td>\n",
              "      <td>48</td>\n",
              "      <td>25</td>\n",
              "      <td>...</td>\n",
              "      <td>181</td>\n",
              "      <td>0</td>\n",
              "      <td>16</td>\n",
              "      <td>53</td>\n",
              "      <td>0</td>\n",
              "      <td>8</td>\n",
              "      <td>214</td>\n",
              "      <td>0</td>\n",
              "      <td>32</td>\n",
              "      <td>169</td>\n",
              "    </tr>\n",
              "    <tr>\n",
              "      <th>lane2</th>\n",
              "      <td>888</td>\n",
              "      <td>581</td>\n",
              "      <td>1</td>\n",
              "      <td>71</td>\n",
              "      <td>34</td>\n",
              "      <td>3</td>\n",
              "      <td>6</td>\n",
              "      <td>1962</td>\n",
              "      <td>64</td>\n",
              "      <td>23</td>\n",
              "      <td>...</td>\n",
              "      <td>219</td>\n",
              "      <td>0</td>\n",
              "      <td>26</td>\n",
              "      <td>59</td>\n",
              "      <td>0</td>\n",
              "      <td>16</td>\n",
              "      <td>205</td>\n",
              "      <td>0</td>\n",
              "      <td>18</td>\n",
              "      <td>162</td>\n",
              "    </tr>\n",
              "    <tr>\n",
              "      <th>lane1</th>\n",
              "      <td>1485</td>\n",
              "      <td>573</td>\n",
              "      <td>2</td>\n",
              "      <td>112</td>\n",
              "      <td>19</td>\n",
              "      <td>22</td>\n",
              "      <td>6</td>\n",
              "      <td>3240</td>\n",
              "      <td>68</td>\n",
              "      <td>16</td>\n",
              "      <td>...</td>\n",
              "      <td>213</td>\n",
              "      <td>0</td>\n",
              "      <td>21</td>\n",
              "      <td>35</td>\n",
              "      <td>2</td>\n",
              "      <td>16</td>\n",
              "      <td>212</td>\n",
              "      <td>0</td>\n",
              "      <td>38</td>\n",
              "      <td>363</td>\n",
              "    </tr>\n",
              "    <tr>\n",
              "      <th>lane2</th>\n",
              "      <td>1578</td>\n",
              "      <td>558</td>\n",
              "      <td>8</td>\n",
              "      <td>149</td>\n",
              "      <td>26</td>\n",
              "      <td>19</td>\n",
              "      <td>3</td>\n",
              "      <td>3380</td>\n",
              "      <td>49</td>\n",
              "      <td>15</td>\n",
              "      <td>...</td>\n",
              "      <td>271</td>\n",
              "      <td>0</td>\n",
              "      <td>33</td>\n",
              "      <td>36</td>\n",
              "      <td>0</td>\n",
              "      <td>11</td>\n",
              "      <td>200</td>\n",
              "      <td>0</td>\n",
              "      <td>27</td>\n",
              "      <td>436</td>\n",
              "    </tr>\n",
              "    <tr>\n",
              "      <th>lane1</th>\n",
              "      <td>1615</td>\n",
              "      <td>587</td>\n",
              "      <td>1</td>\n",
              "      <td>184</td>\n",
              "      <td>17</td>\n",
              "      <td>21</td>\n",
              "      <td>2</td>\n",
              "      <td>4251</td>\n",
              "      <td>81</td>\n",
              "      <td>9</td>\n",
              "      <td>...</td>\n",
              "      <td>465</td>\n",
              "      <td>0</td>\n",
              "      <td>22</td>\n",
              "      <td>43</td>\n",
              "      <td>0</td>\n",
              "      <td>16</td>\n",
              "      <td>329</td>\n",
              "      <td>1</td>\n",
              "      <td>64</td>\n",
              "      <td>453</td>\n",
              "    </tr>\n",
              "  </tbody>\n",
              "</table>\n",
              "<p>5 rows × 17353 columns</p>\n",
              "</div>\n",
              "      <button class=\"colab-df-convert\" onclick=\"convertToInteractive('df-1181662e-b18e-416b-a132-d0c52782031d')\"\n",
              "              title=\"Convert this dataframe to an interactive table.\"\n",
              "              style=\"display:none;\">\n",
              "        \n",
              "  <svg xmlns=\"http://www.w3.org/2000/svg\" height=\"24px\"viewBox=\"0 0 24 24\"\n",
              "       width=\"24px\">\n",
              "    <path d=\"M0 0h24v24H0V0z\" fill=\"none\"/>\n",
              "    <path d=\"M18.56 5.44l.94 2.06.94-2.06 2.06-.94-2.06-.94-.94-2.06-.94 2.06-2.06.94zm-11 1L8.5 8.5l.94-2.06 2.06-.94-2.06-.94L8.5 2.5l-.94 2.06-2.06.94zm10 10l.94 2.06.94-2.06 2.06-.94-2.06-.94-.94-2.06-.94 2.06-2.06.94z\"/><path d=\"M17.41 7.96l-1.37-1.37c-.4-.4-.92-.59-1.43-.59-.52 0-1.04.2-1.43.59L10.3 9.45l-7.72 7.72c-.78.78-.78 2.05 0 2.83L4 21.41c.39.39.9.59 1.41.59.51 0 1.02-.2 1.41-.59l7.78-7.78 2.81-2.81c.8-.78.8-2.07 0-2.86zM5.41 20L4 18.59l7.72-7.72 1.47 1.35L5.41 20z\"/>\n",
              "  </svg>\n",
              "      </button>\n",
              "      \n",
              "  <style>\n",
              "    .colab-df-container {\n",
              "      display:flex;\n",
              "      flex-wrap:wrap;\n",
              "      gap: 12px;\n",
              "    }\n",
              "\n",
              "    .colab-df-convert {\n",
              "      background-color: #E8F0FE;\n",
              "      border: none;\n",
              "      border-radius: 50%;\n",
              "      cursor: pointer;\n",
              "      display: none;\n",
              "      fill: #1967D2;\n",
              "      height: 32px;\n",
              "      padding: 0 0 0 0;\n",
              "      width: 32px;\n",
              "    }\n",
              "\n",
              "    .colab-df-convert:hover {\n",
              "      background-color: #E2EBFA;\n",
              "      box-shadow: 0px 1px 2px rgba(60, 64, 67, 0.3), 0px 1px 3px 1px rgba(60, 64, 67, 0.15);\n",
              "      fill: #174EA6;\n",
              "    }\n",
              "\n",
              "    [theme=dark] .colab-df-convert {\n",
              "      background-color: #3B4455;\n",
              "      fill: #D2E3FC;\n",
              "    }\n",
              "\n",
              "    [theme=dark] .colab-df-convert:hover {\n",
              "      background-color: #434B5C;\n",
              "      box-shadow: 0px 1px 3px 1px rgba(0, 0, 0, 0.15);\n",
              "      filter: drop-shadow(0px 1px 2px rgba(0, 0, 0, 0.3));\n",
              "      fill: #FFFFFF;\n",
              "    }\n",
              "  </style>\n",
              "\n",
              "      <script>\n",
              "        const buttonEl =\n",
              "          document.querySelector('#df-1181662e-b18e-416b-a132-d0c52782031d button.colab-df-convert');\n",
              "        buttonEl.style.display =\n",
              "          google.colab.kernel.accessAllowed ? 'block' : 'none';\n",
              "\n",
              "        async function convertToInteractive(key) {\n",
              "          const element = document.querySelector('#df-1181662e-b18e-416b-a132-d0c52782031d');\n",
              "          const dataTable =\n",
              "            await google.colab.kernel.invokeFunction('convertToInteractive',\n",
              "                                                     [key], {});\n",
              "          if (!dataTable) return;\n",
              "\n",
              "          const docLinkHtml = 'Like what you see? Visit the ' +\n",
              "            '<a target=\"_blank\" href=https://colab.research.google.com/notebooks/data_table.ipynb>data table notebook</a>'\n",
              "            + ' to learn more about interactive tables.';\n",
              "          element.innerHTML = '';\n",
              "          dataTable['output_type'] = 'display_data';\n",
              "          await google.colab.output.renderOutput(dataTable, element);\n",
              "          const docLink = document.createElement('div');\n",
              "          docLink.innerHTML = docLinkHtml;\n",
              "          element.appendChild(docLink);\n",
              "        }\n",
              "      </script>\n",
              "    </div>\n",
              "  </div>\n",
              "  "
            ]
          },
          "metadata": {},
          "execution_count": 22
        }
      ]
    },
    {
      "cell_type": "code",
      "source": [
        "means = np.mean(df1.values, axis=0)\n",
        "vars = np.var(df1.values, axis=0)\n",
        "\n",
        "means = means[vars > 0]\n",
        "vars = vars[vars > 0]\n",
        "\n",
        "means = np.log10(means)\n",
        "vars = np.log10(vars)"
      ],
      "metadata": {
        "id": "PAD8K7ZRT_ML"
      },
      "execution_count": null,
      "outputs": []
    },
    {
      "cell_type": "code",
      "source": [
        "sns.set_style(\"ticks\")\n",
        "fig, ax = plt.subplots(figsize=(4, 4), dpi=100)\n",
        "\n",
        "ax.scatter(means, vars)\n",
        "ax.plot([-3, 12], [-3, 12], color=\"red\")\n",
        "ax.set_xlim(-3, 12)\n",
        "ax.set_ylim(-3, 12)\n",
        "ax.grid(alpha=0.3)\n",
        "\n",
        "ax.set_xlabel(\"log$_{10}$(Mean)\")\n",
        "ax.set_ylabel(\"log$_{10}$(Variance)\")"
      ],
      "metadata": {
        "colab": {
          "base_uri": "https://localhost:8080/",
          "height": 408
        },
        "id": "9Jzbll4NT_S4",
        "outputId": "9cfb4b9b-d9dc-4046-a9a3-3786276b6fed"
      },
      "execution_count": null,
      "outputs": [
        {
          "output_type": "execute_result",
          "data": {
            "text/plain": [
              "Text(0, 0.5, 'log$_{10}$(Variance)')"
            ]
          },
          "metadata": {},
          "execution_count": 24
        },
        {
          "output_type": "display_data",
          "data": {
            "text/plain": [
              "<Figure size 400x400 with 1 Axes>"
            ],
            "image/png": "[encoded data removed]"
          },
          "metadata": {}
        }
      ]
    },
    {
      "cell_type": "markdown",
      "source": [
        "Как-то не сильно пуассон.. Ну только в начале самом"
      ],
      "metadata": {
        "id": "QgK-L8bH5-Ku"
      }
    },
    {
      "cell_type": "markdown",
      "source": [
        "## Номер 3"
      ],
      "metadata": {
        "id": "mGVby8yj56Ya"
      }
    },
    {
      "cell_type": "code",
      "source": [
        "!gdown --id 1Mh2T7YyWG9LPQsuNGy_IdYhbbzUgZUek"
      ],
      "metadata": {
        "id": "LqBw_qaNT_Xv",
        "colab": {
          "base_uri": "https://localhost:8080/"
        },
        "outputId": "12828d8e-deef-4b0b-f98b-05e998df6de2"
      },
      "execution_count": null,
      "outputs": [
        {
          "output_type": "stream",
          "name": "stdout",
          "text": [
            "/usr/local/lib/python3.7/dist-packages/gdown/cli.py:131: FutureWarning: Option `--id` was deprecated in version 4.3.1 and will be removed in 5.0. You don't need to pass it anymore to use a file ID.\n",
            "  category=FutureWarning,\n",
            "Downloading...\n",
            "From: https://drive.google.com/uc?id=1Mh2T7YyWG9LPQsuNGy_IdYhbbzUgZUek\n",
            "To: /content/polyA_total_counts.tsv\n",
            "100% 1.87M/1.87M [00:00<00:00, 115MB/s]\n"
          ]
        }
      ]
    },
    {
      "cell_type": "code",
      "source": [
        "df = pd.read_table(\"polyA_total_counts.tsv\", sep='\\t')\n",
        "df.index = [gene.split(\".\")[0] for gene in df['Unnamed: 0']]\n",
        "del df['Unnamed: 0']"
      ],
      "metadata": {
        "id": "-mI7feV7T_as"
      },
      "execution_count": null,
      "outputs": []
    },
    {
      "cell_type": "code",
      "source": [
        "df1 = df.iloc[:, 0:4]"
      ],
      "metadata": {
        "id": "a6Jm6C3m4TsH"
      },
      "execution_count": null,
      "outputs": []
    },
    {
      "cell_type": "code",
      "source": [
        "df1 = df1.T\n",
        "df1"
      ],
      "metadata": {
        "colab": {
          "base_uri": "https://localhost:8080/",
          "height": 268
        },
        "id": "b9IU6lXYD-qF",
        "outputId": "519ed6cd-bebe-4109-fb0d-bc5532ac854e"
      },
      "execution_count": null,
      "outputs": [
        {
          "output_type": "execute_result",
          "data": {
            "text/plain": [
              "               MAFIP  KIR3DL2  KIR3DL2  KIR3DL2  KIR3DL2  KIR3DL2  KIR3DL2  \\\n",
              "colon_polyA_3      0        0        0        0        0        0        0   \n",
              "colon_polyA_4      0        0        0        0        0        0        0   \n",
              "colon_polyA_1      0        0        0        0        0        0        0   \n",
              "colon_polyA_2      0        0        0        0        0        0        0   \n",
              "\n",
              "               KIR3DL2  KIR3DL2  KIR3DL2  ...  PRY  BPY2  DAZ1  DAZ2  CDY1B  \\\n",
              "colon_polyA_3        0        0        0  ...    0     0     0     0      0   \n",
              "colon_polyA_4        0        0        0  ...    0     0     0     0      0   \n",
              "colon_polyA_1        0        0        0  ...    0    26     0     0      0   \n",
              "colon_polyA_2        0        0        0  ...    0     0    74     0      0   \n",
              "\n",
              "               BPY2B  DAZ3  DAZ4  BPY2C  CDY1  \n",
              "colon_polyA_3    148     0     0      0     0  \n",
              "colon_polyA_4      0     0     0      0     0  \n",
              "colon_polyA_1      0     0     0     63     0  \n",
              "colon_polyA_2      0     0     0      0     0  \n",
              "\n",
              "[4 rows x 21533 columns]"
            ],
            "text/html": [
              "\n",
              "  <div id=\"df-3f62161b-4e3a-4e67-b77b-11416bad0a68\">\n",
              "    <div class=\"colab-df-container\">\n",
              "      <div>\n",
              "<style scoped>\n",
              "    .dataframe tbody tr th:only-of-type {\n",
              "        vertical-align: middle;\n",
              "    }\n",
              "\n",
              "    .dataframe tbody tr th {\n",
              "        vertical-align: top;\n",
              "    }\n",
              "\n",
              "    .dataframe thead th {\n",
              "        text-align: right;\n",
              "    }\n",
              "</style>\n",
              "<table border=\"1\" class=\"dataframe\">\n",
              "  <thead>\n",
              "    <tr style=\"text-align: right;\">\n",
              "      <th></th>\n",
              "      <th>MAFIP</th>\n",
              "      <th>KIR3DL2</th>\n",
              "      <th>KIR3DL2</th>\n",
              "      <th>KIR3DL2</th>\n",
              "      <th>KIR3DL2</th>\n",
              "      <th>KIR3DL2</th>\n",
              "      <th>KIR3DL2</th>\n",
              "      <th>KIR3DL2</th>\n",
              "      <th>KIR3DL2</th>\n",
              "      <th>KIR3DL2</th>\n",
              "      <th>...</th>\n",
              "      <th>PRY</th>\n",
              "      <th>BPY2</th>\n",
              "      <th>DAZ1</th>\n",
              "      <th>DAZ2</th>\n",
              "      <th>CDY1B</th>\n",
              "      <th>BPY2B</th>\n",
              "      <th>DAZ3</th>\n",
              "      <th>DAZ4</th>\n",
              "      <th>BPY2C</th>\n",
              "      <th>CDY1</th>\n",
              "    </tr>\n",
              "  </thead>\n",
              "  <tbody>\n",
              "    <tr>\n",
              "      <th>colon_polyA_3</th>\n",
              "      <td>0</td>\n",
              "      <td>0</td>\n",
              "      <td>0</td>\n",
              "      <td>0</td>\n",
              "      <td>0</td>\n",
              "      <td>0</td>\n",
              "      <td>0</td>\n",
              "      <td>0</td>\n",
              "      <td>0</td>\n",
              "      <td>0</td>\n",
              "      <td>...</td>\n",
              "      <td>0</td>\n",
              "      <td>0</td>\n",
              "      <td>0</td>\n",
              "      <td>0</td>\n",
              "      <td>0</td>\n",
              "      <td>148</td>\n",
              "      <td>0</td>\n",
              "      <td>0</td>\n",
              "      <td>0</td>\n",
              "      <td>0</td>\n",
              "    </tr>\n",
              "    <tr>\n",
              "      <th>colon_polyA_4</th>\n",
              "      <td>0</td>\n",
              "      <td>0</td>\n",
              "      <td>0</td>\n",
              "      <td>0</td>\n",
              "      <td>0</td>\n",
              "      <td>0</td>\n",
              "      <td>0</td>\n",
              "      <td>0</td>\n",
              "      <td>0</td>\n",
              "      <td>0</td>\n",
              "      <td>...</td>\n",
              "      <td>0</td>\n",
              "      <td>0</td>\n",
              "      <td>0</td>\n",
              "      <td>0</td>\n",
              "      <td>0</td>\n",
              "      <td>0</td>\n",
              "      <td>0</td>\n",
              "      <td>0</td>\n",
              "      <td>0</td>\n",
              "      <td>0</td>\n",
              "    </tr>\n",
              "    <tr>\n",
              "      <th>colon_polyA_1</th>\n",
              "      <td>0</td>\n",
              "      <td>0</td>\n",
              "      <td>0</td>\n",
              "      <td>0</td>\n",
              "      <td>0</td>\n",
              "      <td>0</td>\n",
              "      <td>0</td>\n",
              "      <td>0</td>\n",
              "      <td>0</td>\n",
              "      <td>0</td>\n",
              "      <td>...</td>\n",
              "      <td>0</td>\n",
              "      <td>26</td>\n",
              "      <td>0</td>\n",
              "      <td>0</td>\n",
              "      <td>0</td>\n",
              "      <td>0</td>\n",
              "      <td>0</td>\n",
              "      <td>0</td>\n",
              "      <td>63</td>\n",
              "      <td>0</td>\n",
              "    </tr>\n",
              "    <tr>\n",
              "      <th>colon_polyA_2</th>\n",
              "      <td>0</td>\n",
              "      <td>0</td>\n",
              "      <td>0</td>\n",
              "      <td>0</td>\n",
              "      <td>0</td>\n",
              "      <td>0</td>\n",
              "      <td>0</td>\n",
              "      <td>0</td>\n",
              "      <td>0</td>\n",
              "      <td>0</td>\n",
              "      <td>...</td>\n",
              "      <td>0</td>\n",
              "      <td>0</td>\n",
              "      <td>74</td>\n",
              "      <td>0</td>\n",
              "      <td>0</td>\n",
              "      <td>0</td>\n",
              "      <td>0</td>\n",
              "      <td>0</td>\n",
              "      <td>0</td>\n",
              "      <td>0</td>\n",
              "    </tr>\n",
              "  </tbody>\n",
              "</table>\n",
              "<p>4 rows × 21533 columns</p>\n",
              "</div>\n",
              "      <button class=\"colab-df-convert\" onclick=\"convertToInteractive('df-3f62161b-4e3a-4e67-b77b-11416bad0a68')\"\n",
              "              title=\"Convert this dataframe to an interactive table.\"\n",
              "              style=\"display:none;\">\n",
              "        \n",
              "  <svg xmlns=\"http://www.w3.org/2000/svg\" height=\"24px\"viewBox=\"0 0 24 24\"\n",
              "       width=\"24px\">\n",
              "    <path d=\"M0 0h24v24H0V0z\" fill=\"none\"/>\n",
              "    <path d=\"M18.56 5.44l.94 2.06.94-2.06 2.06-.94-2.06-.94-.94-2.06-.94 2.06-2.06.94zm-11 1L8.5 8.5l.94-2.06 2.06-.94-2.06-.94L8.5 2.5l-.94 2.06-2.06.94zm10 10l.94 2.06.94-2.06 2.06-.94-2.06-.94-.94-2.06-.94 2.06-2.06.94z\"/><path d=\"M17.41 7.96l-1.37-1.37c-.4-.4-.92-.59-1.43-.59-.52 0-1.04.2-1.43.59L10.3 9.45l-7.72 7.72c-.78.78-.78 2.05 0 2.83L4 21.41c.39.39.9.59 1.41.59.51 0 1.02-.2 1.41-.59l7.78-7.78 2.81-2.81c.8-.78.8-2.07 0-2.86zM5.41 20L4 18.59l7.72-7.72 1.47 1.35L5.41 20z\"/>\n",
              "  </svg>\n",
              "      </button>\n",
              "      \n",
              "  <style>\n",
              "    .colab-df-container {\n",
              "      display:flex;\n",
              "      flex-wrap:wrap;\n",
              "      gap: 12px;\n",
              "    }\n",
              "\n",
              "    .colab-df-convert {\n",
              "      background-color: #E8F0FE;\n",
              "      border: none;\n",
              "      border-radius: 50%;\n",
              "      cursor: pointer;\n",
              "      display: none;\n",
              "      fill: #1967D2;\n",
              "      height: 32px;\n",
              "      padding: 0 0 0 0;\n",
              "      width: 32px;\n",
              "    }\n",
              "\n",
              "    .colab-df-convert:hover {\n",
              "      background-color: #E2EBFA;\n",
              "      box-shadow: 0px 1px 2px rgba(60, 64, 67, 0.3), 0px 1px 3px 1px rgba(60, 64, 67, 0.15);\n",
              "      fill: #174EA6;\n",
              "    }\n",
              "\n",
              "    [theme=dark] .colab-df-convert {\n",
              "      background-color: #3B4455;\n",
              "      fill: #D2E3FC;\n",
              "    }\n",
              "\n",
              "    [theme=dark] .colab-df-convert:hover {\n",
              "      background-color: #434B5C;\n",
              "      box-shadow: 0px 1px 3px 1px rgba(0, 0, 0, 0.15);\n",
              "      filter: drop-shadow(0px 1px 2px rgba(0, 0, 0, 0.3));\n",
              "      fill: #FFFFFF;\n",
              "    }\n",
              "  </style>\n",
              "\n",
              "      <script>\n",
              "        const buttonEl =\n",
              "          document.querySelector('#df-3f62161b-4e3a-4e67-b77b-11416bad0a68 button.colab-df-convert');\n",
              "        buttonEl.style.display =\n",
              "          google.colab.kernel.accessAllowed ? 'block' : 'none';\n",
              "\n",
              "        async function convertToInteractive(key) {\n",
              "          const element = document.querySelector('#df-3f62161b-4e3a-4e67-b77b-11416bad0a68');\n",
              "          const dataTable =\n",
              "            await google.colab.kernel.invokeFunction('convertToInteractive',\n",
              "                                                     [key], {});\n",
              "          if (!dataTable) return;\n",
              "\n",
              "          const docLinkHtml = 'Like what you see? Visit the ' +\n",
              "            '<a target=\"_blank\" href=https://colab.research.google.com/notebooks/data_table.ipynb>data table notebook</a>'\n",
              "            + ' to learn more about interactive tables.';\n",
              "          element.innerHTML = '';\n",
              "          dataTable['output_type'] = 'display_data';\n",
              "          await google.colab.output.renderOutput(dataTable, element);\n",
              "          const docLink = document.createElement('div');\n",
              "          docLink.innerHTML = docLinkHtml;\n",
              "          element.appendChild(docLink);\n",
              "        }\n",
              "      </script>\n",
              "    </div>\n",
              "  </div>\n",
              "  "
            ]
          },
          "metadata": {},
          "execution_count": 68
        }
      ]
    },
    {
      "cell_type": "code",
      "source": [
        "means = np.mean(df1.values, axis=0)\n",
        "vars = np.var(df1.values, axis=0)\n",
        "\n",
        "means = means[vars > 0]\n",
        "vars = vars[vars > 0]\n",
        "\n",
        "means = np.log10(means)\n",
        "vars = np.log10(vars)"
      ],
      "metadata": {
        "id": "6Xn9tDaDD-sd"
      },
      "execution_count": null,
      "outputs": []
    },
    {
      "cell_type": "code",
      "source": [
        "sns.set_style(\"ticks\")\n",
        "fig, ax = plt.subplots(figsize=(4, 4), dpi=100)\n",
        "\n",
        "ax.scatter(means, vars)\n",
        "ax.plot([-3, 12], [-3, 12], color=\"red\")\n",
        "ax.grid(alpha=0.3)\n",
        "\n",
        "ax.set_xlabel(\"log$_{10}$(Mean)\")\n",
        "ax.set_ylabel(\"log$_{10}$(Variance)\")"
      ],
      "metadata": {
        "colab": {
          "base_uri": "https://localhost:8080/",
          "height": 403
        },
        "id": "4b3SF4vAD-ui",
        "outputId": "6d506372-a0dc-407a-c13a-6b6c07aa4dc7"
      },
      "execution_count": null,
      "outputs": [
        {
          "output_type": "execute_result",
          "data": {
            "text/plain": [
              "Text(0, 0.5, 'log$_{10}$(Variance)')"
            ]
          },
          "metadata": {},
          "execution_count": 70
        },
        {
          "output_type": "display_data",
          "data": {
            "text/plain": [
              "<Figure size 400x400 with 1 Axes>"
            ],
            "image/png": "[encoded data removed]"
          },
          "metadata": {}
        }
      ]
    },
    {
      "cell_type": "markdown",
      "source": [
        "Это прям совсем не Пуассон"
      ],
      "metadata": {
        "id": "nvUrOLqc7Esd"
      }
    }
  ]
}