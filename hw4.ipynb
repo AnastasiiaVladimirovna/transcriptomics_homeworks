{
  "cells": [
    {
      "cell_type": "markdown",
      "metadata": {
        "id": "view-in-github",
        "colab_type": "text"
      },
      "source": [
        "<a href=\"https://colab.research.google.com/github/AnastasiiaVladimirovna/transcriptomics_homeworks/blob/main/hw4.ipynb\" target=\"_parent\"><img src=\"https://colab.research.google.com/assets/colab-badge.svg\" alt=\"Open In Colab\"/></a>"
      ]
    },
    {
      "cell_type": "markdown",
      "source": [
        "Сначала все скачаем, установим"
      ],
      "metadata": {
        "id": "Zhe7QhDJOS4v"
      }
    },
    {
      "cell_type": "code",
      "execution_count": null,
      "metadata": {
        "id": "6Nu8NhSDg7Xb"
      },
      "outputs": [],
      "source": [
        "!apt-get install libgmp3-dev libcairo2-dev libharfbuzz-dev libfribidi-dev libudunits2-dev\n",
        "!gdown \"1W0TuuQospxcasOX5cQdhT_Xd-k7-QAck&confirm=t\"\n",
        "!tar xf library.tar.gz"
      ]
    },
    {
      "cell_type": "code",
      "execution_count": null,
      "metadata": {
        "id": "L7Qs0ne7GJdp"
      },
      "outputs": [],
      "source": [
        "!pip install rpy2==3.5.1"
      ]
    },
    {
      "cell_type": "code",
      "execution_count": null,
      "metadata": {
        "id": "Hm8vKJ2uhQ07"
      },
      "outputs": [],
      "source": [
        "%load_ext rpy2.ipython\n",
        "%R .libPaths(\"usr/local/lib/R/site-library/\")\n",
        "\n",
        "!Rscript -e 'install.packages(\"dplyr\")'\n",
        "!Rscript -e 'install.packages(\"ggplot2\")'\n",
        "!Rscript -e 'install.packages(\"tidyr\")'\n",
        "!Rscript -e 'install.packages(\"stringr\")'\n",
        "!Rscript -e 'install.packages(\"statmod\")'\n",
        "!Rscript -e 'install.packages(\"MASS\")'"
      ]
    },
    {
      "cell_type": "code",
      "execution_count": null,
      "metadata": {
        "id": "JynkEvFqhYI2"
      },
      "outputs": [],
      "source": [
        "%%R\n",
        "\n",
        "suppressPackageStartupMessages({\n",
        "  library(edgeR)\n",
        "  library(stringr)\n",
        "  library(dplyr)\n",
        "  library(tidyr)\n",
        "  library(tximport)\n",
        "  library(EnsDb.Mmusculus.v79)\n",
        "  library(ggplot2)\n",
        "  library(MASS)\n",
        "  library(DESeq2)\n",
        "})"
      ]
    },
    {
      "cell_type": "code",
      "execution_count": null,
      "metadata": {
        "id": "RHpDaSWJhYLS"
      },
      "outputs": [],
      "source": [
        "!wget -r -np -R \"index.html*\" http://arcuda.skoltech.ru/~d.bobrovsky/teaching/transcriptomics/samples/"
      ]
    },
    {
      "cell_type": "code",
      "execution_count": null,
      "metadata": {
        "id": "x0ku9iuPhYNw"
      },
      "outputs": [],
      "source": [
        "!mkdir data\n",
        "!mkdir data/samples\n",
        "\n",
        "!mv arcuda.skoltech.ru/~d.bobrovsky/teaching/transcriptomics/samples/* data/samples"
      ]
    },
    {
      "cell_type": "code",
      "execution_count": null,
      "metadata": {
        "id": "bqe4oqIkhYQD"
      },
      "outputs": [],
      "source": [
        "%%R\n",
        "\n",
        "txdb <- EnsDb.Mmusculus.v79\n",
        "tx2gene <- transcripts(txdb,return.type=\"DataFrame\")\n",
        "tx2gene <- tx2gene[c(\"tx_id\",\"gene_id\")]\n",
        "\n",
        "samples <- str_c(c(str_c(\"wt_water_\",c(1,2,3,4)),\n",
        "                   str_c(\"wt_bicarb_\",c(1,2,3,4)),\n",
        "                   str_c(\"ko_water_\",c(1,2,3,4)),\n",
        "                   str_c(\"ko_bicarb_\",c(1,2,3,4))),\".sf\")\n",
        "files <- str_c(\"data/samples/\",samples)"
      ]
    },
    {
      "cell_type": "code",
      "execution_count": null,
      "metadata": {
        "id": "-uySM33qibvT"
      },
      "outputs": [],
      "source": [
        "%%R\n",
        "\n",
        "txi <- tximport(files, type = \"salmon\", tx2gene = tx2gene, ignoreTxVersion=T)"
      ]
    },
    {
      "cell_type": "code",
      "execution_count": null,
      "metadata": {
        "id": "cZCG7uoEIdfM"
      },
      "outputs": [],
      "source": [
        "%%R\n",
        "\n",
        "cts <- txi$counts"
      ]
    },
    {
      "cell_type": "code",
      "execution_count": null,
      "metadata": {
        "colab": {
          "base_uri": "https://localhost:8080/"
        },
        "id": "GlRGZEVbIev-",
        "outputId": "1015dad6-36fa-40e5-a782-7557cae41aa0"
      },
      "outputs": [
        {
          "output_type": "stream",
          "name": "stdout",
          "text": [
            "--2022-12-17 13:24:57--  http://arcuda.skoltech.ru/~d.bobrovsky/teaching/transcriptomics/mouse_mart.csv\n",
            "Resolving arcuda.skoltech.ru (arcuda.skoltech.ru)... 195.133.216.197\n",
            "Connecting to arcuda.skoltech.ru (arcuda.skoltech.ru)|195.133.216.197|:80... connected.\n",
            "HTTP request sent, awaiting response... 200 OK\n",
            "Length: 13518751 (13M)\n",
            "Saving to: ‘data/mouse_mart.csv’\n",
            "\n",
            "data/mouse_mart.csv 100%[===================>]  12.89M   300KB/s    in 67s     \n",
            "\n",
            "2022-12-17 13:26:05 (196 KB/s) - ‘data/mouse_mart.csv’ saved [13518751/13518751]\n",
            "\n"
          ]
        }
      ],
      "source": [
        "!wget -O data/mouse_mart.csv http://arcuda.skoltech.ru/~d.bobrovsky/teaching/transcriptomics/mouse_mart.csv"
      ]
    },
    {
      "cell_type": "code",
      "execution_count": null,
      "metadata": {
        "id": "Qts3igThIeyb"
      },
      "outputs": [],
      "source": [
        "%%R\n",
        "\n",
        "mart <- read.csv(\"data/mouse_mart.csv\")\n",
        "genetype <- mart$Gene.type[match(rownames(cts),mart$Gene.stable.ID)]\n",
        "typefilter <- genetype == \"protein_coding\"\n",
        "typefilter[is.na(typefilter)] <- FALSE\n",
        "cts <- cts[typefilter,]\n",
        "# normMat <- normMat[typefilter,]\n",
        "txi$counts <- txi$counts[typefilter,]\n",
        "txi$abundance <- txi$abundance[typefilter, ]\n",
        "txi$length <- txi$length[typefilter, ]"
      ]
    },
    {
      "cell_type": "code",
      "execution_count": null,
      "metadata": {
        "colab": {
          "base_uri": "https://localhost:8080/"
        },
        "id": "Ma2I7AtKshDz",
        "outputId": "afecb23e-15dd-4313-8e28-d24520053746"
      },
      "outputs": [
        {
          "name": "stdout",
          "output_type": "stream",
          "text": [
            " num [1:21153, 1:16] 745 0 18 4 0 ...\n",
            " - attr(*, \"dimnames\")=List of 2\n",
            "  ..$ : chr [1:21153] \"ENSMUSG00000000001\" \"ENSMUSG00000000003\" \"ENSMUSG00000000028\" \"ENSMUSG00000000037\" ...\n",
            "  ..$ : NULL\n"
          ]
        }
      ],
      "source": [
        "%%R\n",
        "str(cts)"
      ]
    },
    {
      "cell_type": "code",
      "execution_count": null,
      "metadata": {
        "id": "hD-M9GEWI8sx"
      },
      "outputs": [],
      "source": [
        "%%R\n",
        "sampleTable <- data.frame(condition = factor(rep(c(\"wt_water\", \"wt_bicarb\", \"ko_water\", \"ko_bicarb\"), each = 4)))\n",
        "rownames(sampleTable) <- colnames(txi$counts)"
      ]
    },
    {
      "cell_type": "markdown",
      "source": [
        "Теперь все выгрузим в DESeq2"
      ],
      "metadata": {
        "id": "jjjsAwr8SHNy"
      }
    },
    {
      "cell_type": "code",
      "execution_count": null,
      "metadata": {
        "colab": {
          "base_uri": "https://localhost:8080/"
        },
        "id": "NmfGdoSyI8vA",
        "outputId": "41754ca5-6b37-418d-9355-aa60621f887b"
      },
      "outputs": [
        {
          "output_type": "stream",
          "name": "stderr",
          "text": [
            "WARNING:rpy2.rinterface_lib.callbacks:R[write to console]: using counts and average transcript lengths from tximport\n",
            "\n"
          ]
        }
      ],
      "source": [
        "%%R\n",
        "dds <- DESeqDataSetFromTximport(txi, sampleTable, ~condition)"
      ]
    },
    {
      "cell_type": "code",
      "execution_count": null,
      "metadata": {
        "colab": {
          "base_uri": "https://localhost:8080/"
        },
        "id": "DGom3_JZI8xS",
        "outputId": "76055c5e-c6f8-44d3-dee2-8d4c3c1f7da3"
      },
      "outputs": [
        {
          "output_type": "stream",
          "name": "stderr",
          "text": [
            "WARNING:rpy2.rinterface_lib.callbacks:R[write to console]: estimating size factors\n",
            "\n",
            "WARNING:rpy2.rinterface_lib.callbacks:R[write to console]: using 'avgTxLength' from assays(dds), correcting for library size\n",
            "\n",
            "WARNING:rpy2.rinterface_lib.callbacks:R[write to console]: estimating dispersions\n",
            "\n",
            "WARNING:rpy2.rinterface_lib.callbacks:R[write to console]: gene-wise dispersion estimates\n",
            "\n",
            "WARNING:rpy2.rinterface_lib.callbacks:R[write to console]: mean-dispersion relationship\n",
            "\n",
            "WARNING:rpy2.rinterface_lib.callbacks:R[write to console]: final dispersion estimates\n",
            "\n",
            "WARNING:rpy2.rinterface_lib.callbacks:R[write to console]: fitting model and testing\n",
            "\n"
          ]
        }
      ],
      "source": [
        "%%R\n",
        "dds <- DESeq(dds)"
      ]
    },
    {
      "cell_type": "code",
      "execution_count": null,
      "metadata": {
        "colab": {
          "base_uri": "https://localhost:8080/"
        },
        "id": "9Hx-tccRI8zn",
        "outputId": "81c827bf-d9dd-41d7-c8fe-c2183a8c16c3"
      },
      "outputs": [
        {
          "output_type": "stream",
          "name": "stdout",
          "text": [
            "Formal class 'DESeqDataSet' [package \"DESeq2\"] with 8 slots\n",
            "  ..@ design            :Class 'formula'  language ~condition\n",
            "  .. .. ..- attr(*, \".Environment\")=<environment: R_GlobalEnv> \n",
            "  ..@ dispersionFunction:function (q)  \n",
            "  .. ..- attr(*, \"coefficients\")= Named num [1:2] 0.00966 5.38563\n",
            "  .. .. ..- attr(*, \"names\")= chr [1:2] \"asymptDisp\" \"extraPois\"\n",
            "  .. ..- attr(*, \"fitType\")= chr \"parametric\"\n",
            "  .. ..- attr(*, \"varLogDispEsts\")= num 1.39\n",
            "  .. ..- attr(*, \"dispPriorVar\")= num 1.21\n",
            "  ..@ rowRanges         :Formal class 'CompressedGRangesList' [package \"GenomicRanges\"] with 5 slots\n",
            "  .. .. ..@ unlistData     :Formal class 'GRanges' [package \"GenomicRanges\"] with 7 slots\n",
            "  .. .. .. .. ..@ seqnames       :Formal class 'Rle' [package \"S4Vectors\"] with 4 slots\n",
            "  .. .. .. .. .. .. ..@ values         : Factor w/ 0 levels: \n",
            "  .. .. .. .. .. .. ..@ lengths        : int(0) \n",
            "  .. .. .. .. .. .. ..@ elementMetadata: NULL\n",
            "  .. .. .. .. .. .. ..@ metadata       : list()\n",
            "  .. .. .. .. ..@ ranges         :Formal class 'IRanges' [package \"IRanges\"] with 6 slots\n",
            "  .. .. .. .. .. .. ..@ start          : int(0) \n",
            "  .. .. .. .. .. .. ..@ width          : int(0) \n",
            "  .. .. .. .. .. .. ..@ NAMES          : NULL\n",
            "  .. .. .. .. .. .. ..@ elementType    : chr \"ANY\"\n",
            "  .. .. .. .. .. .. ..@ elementMetadata: NULL\n",
            "  .. .. .. .. .. .. ..@ metadata       : list()\n",
            "  .. .. .. .. ..@ strand         :Formal class 'Rle' [package \"S4Vectors\"] with 4 slots\n",
            "  .. .. .. .. .. .. ..@ values         : Factor w/ 3 levels \"+\",\"-\",\"*\": \n",
            "  .. .. .. .. .. .. ..@ lengths        : int(0) \n",
            "  .. .. .. .. .. .. ..@ elementMetadata: NULL\n",
            "  .. .. .. .. .. .. ..@ metadata       : list()\n",
            "  .. .. .. .. ..@ seqinfo        :Formal class 'Seqinfo' [package \"GenomeInfoDb\"] with 4 slots\n",
            "  .. .. .. .. .. .. ..@ seqnames   : chr(0) \n",
            "  .. .. .. .. .. .. ..@ seqlengths : int(0) \n",
            "  .. .. .. .. .. .. ..@ is_circular: logi(0) \n",
            "  .. .. .. .. .. .. ..@ genome     : chr(0) \n",
            "  .. .. .. .. ..@ elementMetadata:Formal class 'DFrame' [package \"S4Vectors\"] with 6 slots\n",
            "  .. .. .. .. .. .. ..@ rownames       : NULL\n",
            "  .. .. .. .. .. .. ..@ nrows          : int 0\n",
            "  .. .. .. .. .. .. ..@ elementType    : chr \"ANY\"\n",
            "  .. .. .. .. .. .. ..@ elementMetadata: NULL\n",
            "  .. .. .. .. .. .. ..@ metadata       : list()\n",
            "  .. .. .. .. .. .. ..@ listData       : Named list()\n",
            "  .. .. .. .. ..@ elementType    : chr \"ANY\"\n",
            "  .. .. .. .. ..@ metadata       : list()\n",
            "  .. .. ..@ elementMetadata:Formal class 'DFrame' [package \"S4Vectors\"] with 6 slots\n",
            "  .. .. .. .. ..@ rownames       : NULL\n",
            "  .. .. .. .. ..@ nrows          : int 21153\n",
            "  .. .. .. .. ..@ elementType    : chr \"ANY\"\n",
            "  .. .. .. .. ..@ elementMetadata:Formal class 'DFrame' [package \"S4Vectors\"] with 6 slots\n",
            "  .. .. .. .. .. .. ..@ rownames       : NULL\n",
            "  .. .. .. .. .. .. ..@ nrows          : int 30\n",
            "  .. .. .. .. .. .. ..@ elementType    : chr \"ANY\"\n",
            "  .. .. .. .. .. .. ..@ elementMetadata: NULL\n",
            "  .. .. .. .. .. .. ..@ metadata       : list()\n",
            "  .. .. .. .. .. .. ..@ listData       :List of 2\n",
            "  .. .. .. .. .. .. .. ..$ type       : chr [1:30] \"intermediate\" \"intermediate\" \"intermediate\" \"intermediate\" ...\n",
            "  .. .. .. .. .. .. .. ..$ description: chr [1:30] \"mean of normalized counts for all samples\" \"variance of normalized counts for all samples\" \"all counts for a gene are zero\" \"gene-wise estimates of dispersion\" ...\n",
            "  .. .. .. .. ..@ metadata       : list()\n",
            "  .. .. .. .. ..@ listData       :List of 30\n",
            "  .. .. .. .. .. ..$ baseMean                                      : num [1:21153] 786.28 0 18.2 4.73 1.17 ...\n",
            "  .. .. .. .. .. ..$ baseVar                                       : num [1:21153] 14232.73 0 15.18 46.87 1.18 ...\n",
            "  .. .. .. .. .. ..$ allZero                                       : logi [1:21153] FALSE TRUE FALSE FALSE FALSE FALSE ...\n",
            "  .. .. .. .. .. ..$ dispGeneEst                                   : num [1:21153] 2.17e-03 NA 1.00e-08 5.65e-01 1.00e-08 ...\n",
            "  .. .. .. .. .. ..$ dispGeneIter                                  : num [1:21153] 8 NA 5 8 1 9 5 6 9 5 ...\n",
            "  .. .. .. .. .. ..$ dispFit                                       : num [1:21153] 0.0165 NA 0.3056 1.1488 4.6284 ...\n",
            "  .. .. .. .. .. ..$ dispersion                                    : num [1:21153] 0.00355 NA 0.05766 0.65812 0.79476 ...\n",
            "  .. .. .. .. .. ..$ dispIter                                      : num [1:21153] 8 NA 8 7 7 7 7 10 8 9 ...\n",
            "  .. .. .. .. .. ..$ dispOutlier                                   : logi [1:21153] FALSE NA FALSE FALSE FALSE FALSE ...\n",
            "  .. .. .. .. .. ..$ dispMAP                                       : num [1:21153] 0.00355 NA 0.05766 0.65812 0.79476 ...\n",
            "  .. .. .. .. .. ..$ Intercept                                     : num [1:21153] 9.3941 NA 4.0468 -0.3823 0.0673 ...\n",
            "  .. .. .. .. .. ..$ condition_ko_water_vs_ko_bicarb               : num [1:21153] 0.0344 NA 0.1931 2.5009 0.9903 ...\n",
            "  .. .. .. .. .. ..$ condition_wt_bicarb_vs_ko_bicarb              : num [1:21153] 0.3649 NA 0.0943 1.2191 0.1468 ...\n",
            "  .. .. .. .. .. ..$ condition_wt_water_vs_ko_bicarb               : num [1:21153] 0.448 NA 0.21 3.751 -1.749 ...\n",
            "  .. .. .. .. .. ..$ SE_Intercept                                  : num [1:21153] 0.0502 NA 0.2402 0.8955 0.9113 ...\n",
            "  .. .. .. .. .. ..$ SE_condition_ko_water_vs_ko_bicarb            : num [1:21153] 0.0719 NA 0.3412 1.1191 1.2264 ...\n",
            "  .. .. .. .. .. ..$ SE_condition_wt_bicarb_vs_ko_bicarb           : num [1:21153] 0.0706 NA 0.3435 1.1877 1.3196 ...\n",
            "  .. .. .. .. .. ..$ SE_condition_wt_water_vs_ko_bicarb            : num [1:21153] 0.0705 NA 0.3415 1.1234 1.5115 ...\n",
            "  .. .. .. .. .. ..$ WaldStatistic_Intercept                       : num [1:21153] 187.0833 NA 16.8496 -0.4269 0.0738 ...\n",
            "  .. .. .. .. .. ..$ WaldStatistic_condition_ko_water_vs_ko_bicarb : num [1:21153] 0.479 NA 0.566 2.235 0.807 ...\n",
            "  .. .. .. .. .. ..$ WaldStatistic_condition_wt_bicarb_vs_ko_bicarb: num [1:21153] 5.17 NA 0.274 1.026 0.111 ...\n",
            "  .. .. .. .. .. ..$ WaldStatistic_condition_wt_water_vs_ko_bicarb : num [1:21153] 6.359 NA 0.614 3.339 -1.157 ...\n",
            "  .. .. .. .. .. ..$ WaldPvalue_Intercept                          : num [1:21153] 0.00 NA 1.06e-63 6.69e-01 9.41e-01 ...\n",
            "  .. .. .. .. .. ..$ WaldPvalue_condition_ko_water_vs_ko_bicarb    : num [1:21153] 0.6322 NA 0.5714 0.0254 0.4194 ...\n",
            "  .. .. .. .. .. ..$ WaldPvalue_condition_wt_bicarb_vs_ko_bicarb   : num [1:21153] 2.34e-07 NA 7.84e-01 3.05e-01 9.11e-01 ...\n",
            "  .. .. .. .. .. ..$ WaldPvalue_condition_wt_water_vs_ko_bicarb    : num [1:21153] 2.04e-10 NA 5.39e-01 8.41e-04 2.47e-01 ...\n",
            "  .. .. .. .. .. ..$ betaConv                                      : logi [1:21153] TRUE NA TRUE TRUE TRUE TRUE ...\n",
            "  .. .. .. .. .. ..$ betaIter                                      : num [1:21153] 2 NA 2 5 4 2 2 2 3 2 ...\n",
            "  .. .. .. .. .. ..$ deviance                                      : num [1:21153] 165.6 NA 93.5 69.7 43 ...\n",
            "  .. .. .. .. .. ..$ maxCooks                                      : num [1:21153] 0.033 NA 0.3371 0.0391 0.2705 ...\n",
            "  .. .. ..@ elementType    : chr \"GRanges\"\n",
            "  .. .. ..@ metadata       : list()\n",
            "  .. .. ..@ partitioning   :Formal class 'PartitioningByEnd' [package \"IRanges\"] with 5 slots\n",
            "  .. .. .. .. ..@ end            : int [1:21153] 0 0 0 0 0 0 0 0 0 0 ...\n",
            "  .. .. .. .. ..@ NAMES          : chr [1:21153] \"ENSMUSG00000000001\" \"ENSMUSG00000000003\" \"ENSMUSG00000000028\" \"ENSMUSG00000000037\" ...\n",
            "  .. .. .. .. ..@ elementType    : chr \"ANY\"\n",
            "  .. .. .. .. ..@ elementMetadata: NULL\n",
            "  .. .. .. .. ..@ metadata       : list()\n",
            "  ..@ colData           :Formal class 'DFrame' [package \"S4Vectors\"] with 6 slots\n",
            "  .. .. ..@ rownames       : NULL\n",
            "  .. .. ..@ nrows          : int 16\n",
            "  .. .. ..@ elementType    : chr \"ANY\"\n",
            "  .. .. ..@ elementMetadata:Formal class 'DFrame' [package \"S4Vectors\"] with 6 slots\n",
            "  .. .. .. .. ..@ rownames       : NULL\n",
            "  .. .. .. .. ..@ nrows          : int 1\n",
            "  .. .. .. .. ..@ elementType    : chr \"ANY\"\n",
            "  .. .. .. .. ..@ elementMetadata: NULL\n",
            "  .. .. .. .. ..@ metadata       : list()\n",
            "  .. .. .. .. ..@ listData       :List of 2\n",
            "  .. .. .. .. .. ..$ type       : chr \"input\"\n",
            "  .. .. .. .. .. ..$ description: chr \"\"\n",
            "  .. .. ..@ metadata       : list()\n",
            "  .. .. ..@ listData       :List of 1\n",
            "  .. .. .. ..$ condition: Factor w/ 4 levels \"ko_bicarb\",\"ko_water\",..: 4 4 4 4 3 3 3 3 2 2 ...\n",
            "  ..@ assays            :Formal class 'SimpleAssays' [package \"SummarizedExperiment\"] with 1 slot\n",
            "  .. .. ..@ data:Formal class 'SimpleList' [package \"S4Vectors\"] with 4 slots\n",
            "  .. .. .. .. ..@ listData       :List of 6\n",
            "  .. .. .. .. .. ..$ counts              : int [1:21153, 1:16] 745 0 18 4 0 522 331 577 285 795 ...\n",
            "  .. .. .. .. .. .. ..- attr(*, \"dimnames\")=List of 2\n",
            "  .. .. .. .. .. .. .. ..$ : chr [1:21153] \"ENSMUSG00000000001\" \"ENSMUSG00000000003\" \"ENSMUSG00000000028\" \"ENSMUSG00000000037\" ...\n",
            "  .. .. .. .. .. .. .. ..$ : NULL\n",
            "  .. .. .. .. .. ..$ avgTxLength         : num [1:21153, 1:16] 1576 548 1192 3775 763 ...\n",
            "  .. .. .. .. .. .. ..- attr(*, \"dimnames\")=List of 2\n",
            "  .. .. .. .. .. .. .. ..$ : chr [1:21153] \"ENSMUSG00000000001\" \"ENSMUSG00000000003\" \"ENSMUSG00000000028\" \"ENSMUSG00000000037\" ...\n",
            "  .. .. .. .. .. .. .. ..$ : NULL\n",
            "  .. .. .. .. .. ..$ normalizationFactors: num [1:21153, 1:16] 0.913 0.894 0.769 1.497 0.894 ...\n",
            "  .. .. .. .. .. .. ..- attr(*, \"dimnames\")=List of 2\n",
            "  .. .. .. .. .. .. .. ..$ : chr [1:21153] \"ENSMUSG00000000001\" \"ENSMUSG00000000003\" \"ENSMUSG00000000028\" \"ENSMUSG00000000037\" ...\n",
            "  .. .. .. .. .. .. .. ..$ : NULL\n",
            "  .. .. .. .. .. ..$ mu                  : num [1:21153, 1:16] 838.457 NA 14.705 15.458 0.279 ...\n",
            "  .. .. .. .. .. ..$ H                   : num [1:21153, 1:16] 0.248 NA 0.225 0.306 0.25 ...\n",
            "  .. .. .. .. .. ..$ cooks               : num [1:21153, 1:16] 0.033 NA 0.0436 0.0176 0.0306 ...\n",
            "  .. .. .. .. ..@ elementType    : chr \"ANY\"\n",
            "  .. .. .. .. ..@ elementMetadata: NULL\n",
            "  .. .. .. .. ..@ metadata       : list()\n",
            "  ..@ NAMES             : NULL\n",
            "  ..@ elementMetadata   :Formal class 'DFrame' [package \"S4Vectors\"] with 6 slots\n",
            "  .. .. ..@ rownames       : NULL\n",
            "  .. .. ..@ nrows          : int 21153\n",
            "  .. .. ..@ elementType    : chr \"ANY\"\n",
            "  .. .. ..@ elementMetadata: NULL\n",
            "  .. .. ..@ metadata       : list()\n",
            "  .. .. ..@ listData       : Named list()\n",
            "  ..@ metadata          :List of 1\n",
            "  .. ..$ version:Classes 'package_version', 'numeric_version'  hidden list of 1\n",
            "  .. .. ..$ : int [1:3] 1 36 0\n",
            "  ..$ betaPrior      : logi FALSE\n",
            "  ..$ modelMatrixType: chr \"standard\"\n",
            "  ..$ betaPriorVar   : num [1:4] 1e+06 1e+06 1e+06 1e+06\n",
            "  ..$ modelMatrix    : num [1:16, 1:4] 1 1 1 1 1 1 1 1 1 1 ...\n",
            "  .. ..- attr(*, \"dimnames\")=List of 2\n",
            "  .. .. ..$ : chr [1:16] \"1\" \"2\" \"3\" \"4\" ...\n",
            "  .. .. ..$ : chr [1:4] \"Intercept\" \"condition_ko_water_vs_ko_bicarb\" \"condition_wt_bicarb_vs_ko_bicarb\" \"condition_wt_water_vs_ko_bicarb\"\n",
            "  .. ..- attr(*, \"assign\")= int [1:4] 0 1 1 1\n",
            "  .. ..- attr(*, \"contrasts\")=List of 1\n",
            "  .. .. ..$ condition: chr \"contr.treatment\"\n",
            "  ..$ test           : chr \"Wald\"\n",
            "  ..$ dispModelMatrix: num [1:16, 1:4] 1 1 1 1 1 1 1 1 1 1 ...\n",
            "  .. ..- attr(*, \"dimnames\")=List of 2\n",
            "  .. .. ..$ : chr [1:16] \"1\" \"2\" \"3\" \"4\" ...\n",
            "  .. .. ..$ : chr [1:4] \"(Intercept)\" \"conditionko_water\" \"conditionwt_bicarb\" \"conditionwt_water\"\n",
            "  .. ..- attr(*, \"assign\")= int [1:4] 0 1 1 1\n",
            "  .. ..- attr(*, \"contrasts\")=List of 1\n",
            "  .. .. ..$ condition: chr \"contr.treatment\"\n"
          ]
        }
      ],
      "source": [
        "%%R\n",
        "str(dds)"
      ]
    },
    {
      "cell_type": "code",
      "execution_count": null,
      "metadata": {
        "id": "TNWQPP700PoA"
      },
      "outputs": [],
      "source": [
        "%%R\n",
        "keep <- rowSums(counts(dds)) >= 10\n",
        "dds <- dds[keep, ]"
      ]
    },
    {
      "cell_type": "code",
      "execution_count": null,
      "metadata": {
        "colab": {
          "base_uri": "https://localhost:8080/"
        },
        "id": "GV0S7rSsIe02",
        "outputId": "b53dd767-0e9c-4b4a-c651-0c393d9d8bbf"
      },
      "outputs": [
        {
          "output_type": "stream",
          "name": "stdout",
          "text": [
            "[1] \"Intercept\"                        \"condition_ko_water_vs_ko_bicarb\" \n",
            "[3] \"condition_wt_bicarb_vs_ko_bicarb\" \"condition_wt_water_vs_ko_bicarb\" \n"
          ]
        }
      ],
      "source": [
        "%%R\n",
        "resultsNames(dds)"
      ]
    },
    {
      "cell_type": "markdown",
      "source": [
        "Построим Volcano plots для пары condition_wt_bicarb_vs_ko_bicarb"
      ],
      "metadata": {
        "id": "MzncMKA1SK1X"
      }
    },
    {
      "cell_type": "code",
      "execution_count": null,
      "metadata": {
        "colab": {
          "base_uri": "https://localhost:8080/"
        },
        "id": "ljSIGAB4Ie3Y",
        "outputId": "f05e404c-ae42-4746-d7cb-324910d880c5"
      },
      "outputs": [
        {
          "output_type": "stream",
          "name": "stdout",
          "text": [
            "log2 fold change (MLE): condition wt bicarb vs ko bicarb \n",
            "Wald test p-value: condition wt bicarb vs ko bicarb \n",
            "DataFrame with 15942 rows and 6 columns\n",
            "                     baseMean log2FoldChange     lfcSE      stat      pvalue\n",
            "                    <numeric>      <numeric> <numeric> <numeric>   <numeric>\n",
            "ENSMUSG00000000001  786.28271      0.3649160  0.070587  5.169736 2.34425e-07\n",
            "ENSMUSG00000000028   18.19808      0.0942659  0.343466  0.274454 7.83735e-01\n",
            "ENSMUSG00000000037    4.72771      1.2191366  1.187724  1.026448 3.04681e-01\n",
            "ENSMUSG00000000049    1.16603      0.1468187  1.319620  0.111258 9.11411e-01\n",
            "ENSMUSG00000000056  706.89922     -0.3102665  0.120680 -2.570995 1.01407e-02\n",
            "...                       ...            ...       ...       ...         ...\n",
            "ENSMUSG00000104063  68.250433      -0.377420  0.257861 -1.463659    0.143287\n",
            "ENSMUSG00000104148   0.941004      -2.516111  2.312084 -1.088244    0.276487\n",
            "ENSMUSG00000104217  27.399232      -0.680388  1.263086 -0.538672    0.590114\n",
            "ENSMUSG00000104346  24.403592      -0.152599  0.326247 -0.467741    0.639970\n",
            "ENSMUSG00000104445 197.106081       0.329124  0.204915  1.606149    0.108241\n",
            "                          padj\n",
            "                     <numeric>\n",
            "ENSMUSG00000000001 5.62093e-06\n",
            "ENSMUSG00000000028 8.86262e-01\n",
            "ENSMUSG00000000037          NA\n",
            "ENSMUSG00000000049          NA\n",
            "ENSMUSG00000000056 4.67593e-02\n",
            "...                        ...\n",
            "ENSMUSG00000104063    0.317045\n",
            "ENSMUSG00000104148          NA\n",
            "ENSMUSG00000104217    0.763718\n",
            "ENSMUSG00000104346    0.797352\n",
            "ENSMUSG00000104445    0.262579\n"
          ]
        }
      ],
      "source": [
        "%%R\n",
        "res <- results(dds, name=\"condition_wt_bicarb_vs_ko_bicarb\")\n",
        "res"
      ]
    },
    {
      "cell_type": "code",
      "execution_count": null,
      "metadata": {
        "id": "kyGM7SOY2-Au"
      },
      "outputs": [],
      "source": [
        "%%R\n",
        "res <- na.omit(res)"
      ]
    },
    {
      "cell_type": "code",
      "execution_count": null,
      "metadata": {
        "id": "5erJydmP5AO3"
      },
      "outputs": [],
      "source": [
        "%%R\n",
        "for_plot <- data.frame(x = res$log2FoldChange, y = -log10(res$padj))"
      ]
    },
    {
      "cell_type": "code",
      "execution_count": null,
      "metadata": {
        "colab": {
          "base_uri": "https://localhost:8080/"
        },
        "id": "j0jo7gqa5eHG",
        "outputId": "30d2a0a1-c2bd-4489-ec09-3d96de192409"
      },
      "outputs": [
        {
          "output_type": "stream",
          "name": "stdout",
          "text": [
            "            x          y\n",
            "1  0.36491597 5.25019180\n",
            "2  0.09426587 0.05243775\n",
            "3 -0.31026652 1.33013226\n",
            "4  0.24687703 0.67762342\n",
            "5 -0.14543918 0.86484908\n",
            "6 -0.79240890 3.12553854\n"
          ]
        }
      ],
      "source": [
        "%%R\n",
        "head(for_plot)"
      ]
    },
    {
      "cell_type": "code",
      "execution_count": null,
      "metadata": {
        "colab": {
          "base_uri": "https://localhost:8080/",
          "height": 497
        },
        "id": "pvI7M24Z215S",
        "outputId": "9d38109e-43dc-476e-8bf2-a07e681239f9"
      },
      "outputs": [
        {
          "output_type": "display_data",
          "data": {
            "image/png": "[encoded data removed]"
          },
          "metadata": {}
        }
      ],
      "source": [
        "%%R\n",
        "\n",
        "ggplot(for_plot, aes(x=x,y=y))+\n",
        "  geom_point()"
      ]
    }
  ],
  "metadata": {
    "colab": {
      "provenance": [],
      "authorship_tag": "ABX9TyOCFb53j6O9qZYN+KdulRQ4",
      "include_colab_link": true
    },
    "kernelspec": {
      "display_name": "Python 3",
      "name": "python3"
    },
    "language_info": {
      "name": "python"
    }
  },
  "nbformat": 4,
  "nbformat_minor": 0
}