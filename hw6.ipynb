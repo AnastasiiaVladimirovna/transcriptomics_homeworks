{
  "nbformat": 4,
  "nbformat_minor": 0,
  "metadata": {
    "colab": {
      "provenance": [],
      "authorship_tag": "ABX9TyMRrACSzyLd/lyYHoIQ6RR1",
      "include_colab_link": true
    },
    "kernelspec": {
      "name": "python3",
      "display_name": "Python 3"
    },
    "language_info": {
      "name": "python"
    }
  },
  "cells": [
    {
      "cell_type": "markdown",
      "metadata": {
        "id": "view-in-github",
        "colab_type": "text"
      },
      "source": [
        "<a href=\"https://colab.research.google.com/github/AnastasiiaVladimirovna/transcriptomics_homeworks/blob/main/hw6.ipynb\" target=\"_parent\"><img src=\"https://colab.research.google.com/assets/colab-badge.svg\" alt=\"Open In Colab\"/></a>"
      ]
    },
    {
      "cell_type": "code",
      "execution_count": null,
      "metadata": {
        "id": "WZG1qlw_8SSk"
      },
      "outputs": [],
      "source": [
        "# Установка нужных пакетов\n",
        "!apt-get install libgmp3-dev libcairo2-dev libharfbuzz-dev libfribidi-dev libudunits2-dev\n",
        "!gdown \"1W0TuuQospxcasOX5cQdhT_Xd-k7-QAck&confirm=t\"\n",
        "!tar xf library.tar.gz\n",
        "!pip3 install scanpy[leiden] anndata2ri\n",
        "\n",
        "# Необходимо, чтобы конкретно прогрузился matplotlib\n",
        "import os\n",
        "os.kill(os.getpid(), 9)"
      ]
    },
    {
      "cell_type": "code",
      "source": [
        "import anndata2ri\n",
        "anndata2ri.activate()"
      ],
      "metadata": {
        "id": "dVTeBtqD-2pY"
      },
      "execution_count": 1,
      "outputs": []
    },
    {
      "cell_type": "code",
      "source": [
        "# Загрузка R magic\n",
        "!pip install rpy2==3.5.1\n",
        "%load_ext rpy2.ipython\n",
        "%R .libPaths(\"usr/local/lib/R/site-library/\")\n",
        "# %load_ext rpy2.ipython"
      ],
      "metadata": {
        "colab": {
          "base_uri": "https://localhost:8080/",
          "height": 196
        },
        "id": "PpaZg1lx1R6R",
        "outputId": "da65bf1e-b622-438b-9bc3-2fc02a1debce"
      },
      "execution_count": 2,
      "outputs": [
        {
          "output_type": "stream",
          "name": "stdout",
          "text": [
            "Looking in indexes: https://pypi.org/simple, https://us-python.pkg.dev/colab-wheels/public/simple/\n",
            "Requirement already satisfied: rpy2==3.5.1 in /usr/local/lib/python3.8/dist-packages (3.5.1)\n",
            "Requirement already satisfied: tzlocal in /usr/local/lib/python3.8/dist-packages (from rpy2==3.5.1) (1.5.1)\n",
            "Requirement already satisfied: jinja2 in /usr/local/lib/python3.8/dist-packages (from rpy2==3.5.1) (2.11.3)\n",
            "Requirement already satisfied: pytz in /usr/local/lib/python3.8/dist-packages (from rpy2==3.5.1) (2022.6)\n",
            "Requirement already satisfied: cffi>=1.10.0 in /usr/local/lib/python3.8/dist-packages (from rpy2==3.5.1) (1.15.1)\n",
            "Requirement already satisfied: pycparser in /usr/local/lib/python3.8/dist-packages (from cffi>=1.10.0->rpy2==3.5.1) (2.21)\n",
            "Requirement already satisfied: MarkupSafe>=0.23 in /usr/local/lib/python3.8/dist-packages (from jinja2->rpy2==3.5.1) (2.0.1)\n"
          ]
        },
        {
          "output_type": "execute_result",
          "data": {
            "text/plain": [
              "<rpy2.robjects.vectors.StrVector object at 0x7fd9d7750dc0> [RTYPES.STRSXP]\n",
              "R classes: ('character',)\n",
              "['/content/..., '/usr/loca..., '/usr/lib/..., '/usr/lib/...]"
            ],
            "text/html": [
              "\n",
              "        <span>StrVector with 4 elements.</span>\n",
              "        <table>\n",
              "        <tbody>\n",
              "          <tr>\n",
              "          \n",
              "            <td>\n",
              "            '/content/...\n",
              "            </td>\n",
              "          \n",
              "            <td>\n",
              "            '/usr/loca...\n",
              "            </td>\n",
              "          \n",
              "            <td>\n",
              "            '/usr/lib/...\n",
              "            </td>\n",
              "          \n",
              "            <td>\n",
              "            '/usr/lib/...\n",
              "            </td>\n",
              "          \n",
              "          </tr>\n",
              "        </tbody>\n",
              "        </table>\n",
              "        "
            ]
          },
          "metadata": {},
          "execution_count": 2
        }
      ]
    },
    {
      "cell_type": "code",
      "source": [
        "!gdown \"1Ctq4EmV2ps1dMiFcbqW467ywezRSGGN0&confirm=t\"\n",
        "!unzip PBMC_10k.zip"
      ],
      "metadata": {
        "id": "h69tM4-T-4VS",
        "colab": {
          "base_uri": "https://localhost:8080/"
        },
        "outputId": "4d2f5b57-2f32-4300-9ef1-61ff35428935"
      },
      "execution_count": 7,
      "outputs": [
        {
          "output_type": "stream",
          "name": "stdout",
          "text": [
            "Downloading...\n",
            "From: https://drive.google.com/uc?id=1Ctq4EmV2ps1dMiFcbqW467ywezRSGGN0&confirm=t\n",
            "To: /content/PBMC_10k.zip\n",
            "100% 345M/345M [00:02<00:00, 168MB/s]\n",
            "Archive:  PBMC_10k.zip\n",
            "replace filtered_feature_bc_matrix.h5? [y]es, [n]o, [A]ll, [N]one, [r]ename: A\n",
            "  inflating: filtered_feature_bc_matrix.h5  \n",
            "  inflating: filtered_feature_bc_matrix.tar.gz  \n",
            "  inflating: metrics_summary.csv     \n",
            "  inflating: raw_feature_bc_matrix.h5  \n",
            "  inflating: raw_feature_bc_matrix.tar.gz  \n",
            "  inflating: web_summary.html        \n"
          ]
        }
      ]
    },
    {
      "cell_type": "code",
      "source": [
        "!tar -xvzf filtered_feature_bc_matrix.tar.gz"
      ],
      "metadata": {
        "id": "VKwmt2EY-9U9",
        "colab": {
          "base_uri": "https://localhost:8080/"
        },
        "outputId": "f0c8f74d-a775-4b7d-e141-96c02f372006"
      },
      "execution_count": 8,
      "outputs": [
        {
          "output_type": "stream",
          "name": "stdout",
          "text": [
            "filtered_feature_bc_matrix/\n",
            "filtered_feature_bc_matrix/matrix.mtx.gz\n",
            "filtered_feature_bc_matrix/features.tsv.gz\n",
            "filtered_feature_bc_matrix/barcodes.tsv.gz\n"
          ]
        }
      ]
    },
    {
      "cell_type": "code",
      "source": [
        "import pandas as pd\n",
        "import numpy as np\n",
        "import seaborn as sns"
      ],
      "metadata": {
        "id": "6D6oMAgaUcD3"
      },
      "execution_count": 9,
      "outputs": []
    },
    {
      "cell_type": "code",
      "source": [
        "import scanpy as sc\n",
        "\n",
        "adata = sc.Aread_10x_mtx(\"filtered_feature_bc_matrix\") # Эта функция позволяет быстро прочитать аутпут программы Cell Ranger\n",
        "print(adata)"
      ],
      "metadata": {
        "id": "OIgzCfrg_FBs",
        "colab": {
          "base_uri": "https://localhost:8080/"
        },
        "outputId": "f29096d3-0d20-47f4-87b8-61e3b1ef13a2"
      },
      "execution_count": 10,
      "outputs": [
        {
          "output_type": "stream",
          "name": "stdout",
          "text": [
            "AnnData object with n_obs × n_vars = 11996 × 36601\n",
            "    var: 'gene_ids', 'feature_types'\n"
          ]
        }
      ]
    },
    {
      "cell_type": "markdown",
      "source": [
        "# Номер 1"
      ],
      "metadata": {
        "id": "AYVCYUFeOG_W"
      }
    },
    {
      "cell_type": "markdown",
      "source": [
        "Итак, функция с таблицами. На вход получает саму Anndata, столбец, в котором написаны группы и название части Anndata, в которой есть этот столбец (чтобы понимать выкидывать строки или столбцы)\n",
        "На выходе получается словарь, где таблицы хранятся под ключами вида **adata_'** *название группы в столбике*'"
      ],
      "metadata": {
        "id": "9J4s3Vgdm8ko"
      }
    },
    {
      "cell_type": "code",
      "source": [
        "def splitt(adata, a_part):\n",
        "  d = {}\n",
        "  u = list(set(list(a_part)))\n",
        "  for i in u:\n",
        "    ind = list([a_part == i][0])\n",
        "    d['adata_' + i] = adata[ind, :]\n",
        "  return d\n"
      ],
      "metadata": {
        "id": "qjrRMhKCOEQc"
      },
      "execution_count": null,
      "outputs": []
    },
    {
      "cell_type": "markdown",
      "source": [
        "Проверим, что работает"
      ],
      "metadata": {
        "id": "5fEZaJnQndWk"
      }
    },
    {
      "cell_type": "code",
      "source": [
        "adata.obs['batch'] = ['1'] * 10000 + ['2'] * 1995 + ['3']"
      ],
      "metadata": {
        "id": "KhgCJ8Y9Q8oC"
      },
      "execution_count": null,
      "outputs": []
    },
    {
      "cell_type": "code",
      "source": [
        "adata.obs"
      ],
      "metadata": {
        "colab": {
          "base_uri": "https://localhost:8080/",
          "height": 423
        },
        "id": "Eweh1H2AniwL",
        "outputId": "c07d06f3-3e01-4a66-dac0-4a7fd5df6d49"
      },
      "execution_count": null,
      "outputs": [
        {
          "output_type": "execute_result",
          "data": {
            "text/plain": [
              "                   batch\n",
              "AAACCCAAGGCCCAAA-1     1\n",
              "AAACCCAAGTAATACG-1     1\n",
              "AAACCCAAGTCACACT-1     1\n",
              "AAACCCACAAAGCGTG-1     1\n",
              "AAACCCACAATCGAAA-1     1\n",
              "...                  ...\n",
              "TTTGTTGGTTGGATCT-1     2\n",
              "TTTGTTGGTTTCTTAC-1     2\n",
              "TTTGTTGTCCATTTCA-1     2\n",
              "TTTGTTGTCTACACAG-1     2\n",
              "TTTGTTGTCTCATTAC-1     3\n",
              "\n",
              "[11996 rows x 1 columns]"
            ],
            "text/html": [
              "\n",
              "  <div id=\"df-6fb70524-6e39-462b-834d-904df94db247\">\n",
              "    <div class=\"colab-df-container\">\n",
              "      <div>\n",
              "<style scoped>\n",
              "    .dataframe tbody tr th:only-of-type {\n",
              "        vertical-align: middle;\n",
              "    }\n",
              "\n",
              "    .dataframe tbody tr th {\n",
              "        vertical-align: top;\n",
              "    }\n",
              "\n",
              "    .dataframe thead th {\n",
              "        text-align: right;\n",
              "    }\n",
              "</style>\n",
              "<table border=\"1\" class=\"dataframe\">\n",
              "  <thead>\n",
              "    <tr style=\"text-align: right;\">\n",
              "      <th></th>\n",
              "      <th>batch</th>\n",
              "    </tr>\n",
              "  </thead>\n",
              "  <tbody>\n",
              "    <tr>\n",
              "      <th>AAACCCAAGGCCCAAA-1</th>\n",
              "      <td>1</td>\n",
              "    </tr>\n",
              "    <tr>\n",
              "      <th>AAACCCAAGTAATACG-1</th>\n",
              "      <td>1</td>\n",
              "    </tr>\n",
              "    <tr>\n",
              "      <th>AAACCCAAGTCACACT-1</th>\n",
              "      <td>1</td>\n",
              "    </tr>\n",
              "    <tr>\n",
              "      <th>AAACCCACAAAGCGTG-1</th>\n",
              "      <td>1</td>\n",
              "    </tr>\n",
              "    <tr>\n",
              "      <th>AAACCCACAATCGAAA-1</th>\n",
              "      <td>1</td>\n",
              "    </tr>\n",
              "    <tr>\n",
              "      <th>...</th>\n",
              "      <td>...</td>\n",
              "    </tr>\n",
              "    <tr>\n",
              "      <th>TTTGTTGGTTGGATCT-1</th>\n",
              "      <td>2</td>\n",
              "    </tr>\n",
              "    <tr>\n",
              "      <th>TTTGTTGGTTTCTTAC-1</th>\n",
              "      <td>2</td>\n",
              "    </tr>\n",
              "    <tr>\n",
              "      <th>TTTGTTGTCCATTTCA-1</th>\n",
              "      <td>2</td>\n",
              "    </tr>\n",
              "    <tr>\n",
              "      <th>TTTGTTGTCTACACAG-1</th>\n",
              "      <td>2</td>\n",
              "    </tr>\n",
              "    <tr>\n",
              "      <th>TTTGTTGTCTCATTAC-1</th>\n",
              "      <td>3</td>\n",
              "    </tr>\n",
              "  </tbody>\n",
              "</table>\n",
              "<p>11996 rows × 1 columns</p>\n",
              "</div>\n",
              "      <button class=\"colab-df-convert\" onclick=\"convertToInteractive('df-6fb70524-6e39-462b-834d-904df94db247')\"\n",
              "              title=\"Convert this dataframe to an interactive table.\"\n",
              "              style=\"display:none;\">\n",
              "        \n",
              "  <svg xmlns=\"http://www.w3.org/2000/svg\" height=\"24px\"viewBox=\"0 0 24 24\"\n",
              "       width=\"24px\">\n",
              "    <path d=\"M0 0h24v24H0V0z\" fill=\"none\"/>\n",
              "    <path d=\"M18.56 5.44l.94 2.06.94-2.06 2.06-.94-2.06-.94-.94-2.06-.94 2.06-2.06.94zm-11 1L8.5 8.5l.94-2.06 2.06-.94-2.06-.94L8.5 2.5l-.94 2.06-2.06.94zm10 10l.94 2.06.94-2.06 2.06-.94-2.06-.94-.94-2.06-.94 2.06-2.06.94z\"/><path d=\"M17.41 7.96l-1.37-1.37c-.4-.4-.92-.59-1.43-.59-.52 0-1.04.2-1.43.59L10.3 9.45l-7.72 7.72c-.78.78-.78 2.05 0 2.83L4 21.41c.39.39.9.59 1.41.59.51 0 1.02-.2 1.41-.59l7.78-7.78 2.81-2.81c.8-.78.8-2.07 0-2.86zM5.41 20L4 18.59l7.72-7.72 1.47 1.35L5.41 20z\"/>\n",
              "  </svg>\n",
              "      </button>\n",
              "      \n",
              "  <style>\n",
              "    .colab-df-container {\n",
              "      display:flex;\n",
              "      flex-wrap:wrap;\n",
              "      gap: 12px;\n",
              "    }\n",
              "\n",
              "    .colab-df-convert {\n",
              "      background-color: #E8F0FE;\n",
              "      border: none;\n",
              "      border-radius: 50%;\n",
              "      cursor: pointer;\n",
              "      display: none;\n",
              "      fill: #1967D2;\n",
              "      height: 32px;\n",
              "      padding: 0 0 0 0;\n",
              "      width: 32px;\n",
              "    }\n",
              "\n",
              "    .colab-df-convert:hover {\n",
              "      background-color: #E2EBFA;\n",
              "      box-shadow: 0px 1px 2px rgba(60, 64, 67, 0.3), 0px 1px 3px 1px rgba(60, 64, 67, 0.15);\n",
              "      fill: #174EA6;\n",
              "    }\n",
              "\n",
              "    [theme=dark] .colab-df-convert {\n",
              "      background-color: #3B4455;\n",
              "      fill: #D2E3FC;\n",
              "    }\n",
              "\n",
              "    [theme=dark] .colab-df-convert:hover {\n",
              "      background-color: #434B5C;\n",
              "      box-shadow: 0px 1px 3px 1px rgba(0, 0, 0, 0.15);\n",
              "      filter: drop-shadow(0px 1px 2px rgba(0, 0, 0, 0.3));\n",
              "      fill: #FFFFFF;\n",
              "    }\n",
              "  </style>\n",
              "\n",
              "      <script>\n",
              "        const buttonEl =\n",
              "          document.querySelector('#df-6fb70524-6e39-462b-834d-904df94db247 button.colab-df-convert');\n",
              "        buttonEl.style.display =\n",
              "          google.colab.kernel.accessAllowed ? 'block' : 'none';\n",
              "\n",
              "        async function convertToInteractive(key) {\n",
              "          const element = document.querySelector('#df-6fb70524-6e39-462b-834d-904df94db247');\n",
              "          const dataTable =\n",
              "            await google.colab.kernel.invokeFunction('convertToInteractive',\n",
              "                                                     [key], {});\n",
              "          if (!dataTable) return;\n",
              "\n",
              "          const docLinkHtml = 'Like what you see? Visit the ' +\n",
              "            '<a target=\"_blank\" href=https://colab.research.google.com/notebooks/data_table.ipynb>data table notebook</a>'\n",
              "            + ' to learn more about interactive tables.';\n",
              "          element.innerHTML = '';\n",
              "          dataTable['output_type'] = 'display_data';\n",
              "          await google.colab.output.renderOutput(dataTable, element);\n",
              "          const docLink = document.createElement('div');\n",
              "          docLink.innerHTML = docLinkHtml;\n",
              "          element.appendChild(docLink);\n",
              "        }\n",
              "      </script>\n",
              "    </div>\n",
              "  </div>\n",
              "  "
            ]
          },
          "metadata": {},
          "execution_count": 8
        }
      ]
    },
    {
      "cell_type": "code",
      "source": [
        "a_part = adata.obs['batch']\n",
        "d = splitt(adata, a_part)"
      ],
      "metadata": {
        "id": "Ieea4JxXjrio"
      },
      "execution_count": null,
      "outputs": []
    },
    {
      "cell_type": "code",
      "source": [
        "print(d['adata_1'].X.A.shape, d['adata_2'].X.A.shape, d['adata_3'].X.A.shape)"
      ],
      "metadata": {
        "colab": {
          "base_uri": "https://localhost:8080/"
        },
        "id": "RG1D7FU8kgCE",
        "outputId": "7d435ca6-9dd2-45af-fa87-a02ea6a2efb9"
      },
      "execution_count": null,
      "outputs": [
        {
          "output_type": "stream",
          "name": "stdout",
          "text": [
            "(10000, 36601) (1995, 36601) (1, 36601)\n"
          ]
        }
      ]
    },
    {
      "cell_type": "markdown",
      "source": [
        "# Номер 2"
      ],
      "metadata": {
        "id": "y7J972w2OGVy"
      }
    },
    {
      "cell_type": "code",
      "source": [
        "import random\n",
        "def random_adata(M, N, adata):\n",
        "  shape = adata.X.A.shape\n",
        "  colnum = shape[1]\n",
        "  rownum = shape[0]\n",
        "  randomcol = random.sample(range(0, colnum + 1), M)\n",
        "  randomrow = random.sample(range(0, rownum + 1), N)\n",
        "  adata_new = adata[randomrow, randomcol]\n",
        "  return adata_new"
      ],
      "metadata": {
        "id": "kVxBhfZJskOV"
      },
      "execution_count": null,
      "outputs": []
    },
    {
      "cell_type": "code",
      "source": [
        "adata_new = random_adata(570, 570, adata)"
      ],
      "metadata": {
        "id": "cqCXPx8gtI5E"
      },
      "execution_count": null,
      "outputs": []
    },
    {
      "cell_type": "code",
      "source": [
        "adata_new.shape"
      ],
      "metadata": {
        "colab": {
          "base_uri": "https://localhost:8080/"
        },
        "id": "DMle0OLttXVS",
        "outputId": "93a8497f-3c41-4267-c45a-683b1c3055cf"
      },
      "execution_count": null,
      "outputs": [
        {
          "output_type": "execute_result",
          "data": {
            "text/plain": [
              "(570, 570)"
            ]
          },
          "metadata": {},
          "execution_count": 16
        }
      ]
    },
    {
      "cell_type": "markdown",
      "source": [
        "# Номер 3"
      ],
      "metadata": {
        "id": "sx6zr-SwwIbo"
      }
    },
    {
      "cell_type": "code",
      "source": [
        "import rpy2.robjects as ro"
      ],
      "metadata": {
        "id": "TuMU5bPitxND"
      },
      "execution_count": 14,
      "outputs": []
    },
    {
      "cell_type": "code",
      "source": [
        "%%R\n",
        "library(Seurat) "
      ],
      "metadata": {
        "id": "0vCwSAba0_ED"
      },
      "execution_count": null,
      "outputs": []
    },
    {
      "cell_type": "code",
      "source": [
        "def seurat_format(adata):\n",
        "  ro.r('library(Seurat)')\n",
        "  ro.globalenv['adata'] = adata\n",
        "  adata_new = ro.r('adata.to.seurat <- as.Seurat(adata, data = NULL, counts = \"X\")')\n",
        "  return adata_new"
      ],
      "metadata": {
        "id": "vrGglLyithy5"
      },
      "execution_count": 11,
      "outputs": []
    },
    {
      "cell_type": "code",
      "source": [
        "adata_new = seurat_format(adata)"
      ],
      "metadata": {
        "id": "Ysq_pO3LDnN2"
      },
      "execution_count": null,
      "outputs": []
    }
  ]
}