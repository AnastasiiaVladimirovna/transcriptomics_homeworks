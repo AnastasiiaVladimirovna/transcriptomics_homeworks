{
  "nbformat": 4,
  "nbformat_minor": 0,
  "metadata": {
    "colab": {
      "provenance": [],
      "authorship_tag": "ABX9TyNiKZEpj9Tpw5cBIqdgsVgW",
      "include_colab_link": true
    },
    "kernelspec": {
      "name": "python3",
      "display_name": "Python 3"
    },
    "language_info": {
      "name": "python"
    },
    "widgets": {
      "application/vnd.jupyter.widget-state+json": {
        "2bdf0de617c74c7395461833f0a250f7": {
          "model_module": "@jupyter-widgets/controls",
          "model_name": "HBoxModel",
          "model_module_version": "1.5.0",
          "state": {
            "_dom_classes": [],
            "_model_module": "@jupyter-widgets/controls",
            "_model_module_version": "1.5.0",
            "_model_name": "HBoxModel",
            "_view_count": null,
            "_view_module": "@jupyter-widgets/controls",
            "_view_module_version": "1.5.0",
            "_view_name": "HBoxView",
            "box_style": "",
            "children": [
              "IPY_MODEL_f7ed839fb6694f65b5b6e7a9deadb63b",
              "IPY_MODEL_7161dd4c03c4481f9851a3db0a80fd07",
              "IPY_MODEL_b6393beb4e274a9cab1bf9d50349860b"
            ],
            "layout": "IPY_MODEL_ea7e5252d2a14dd8bc65f69171a00dd1"
          }
        },
        "f7ed839fb6694f65b5b6e7a9deadb63b": {
          "model_module": "@jupyter-widgets/controls",
          "model_name": "HTMLModel",
          "model_module_version": "1.5.0",
          "state": {
            "_dom_classes": [],
            "_model_module": "@jupyter-widgets/controls",
            "_model_module_version": "1.5.0",
            "_model_name": "HTMLModel",
            "_view_count": null,
            "_view_module": "@jupyter-widgets/controls",
            "_view_module_version": "1.5.0",
            "_view_name": "HTMLView",
            "description": "",
            "description_tooltip": null,
            "layout": "IPY_MODEL_7bbd53037e5c4941ad5bb42de7f9d127",
            "placeholder": "​",
            "style": "IPY_MODEL_d9819b2d97a34977afbb4fbd43d943ca",
            "value": "100%"
          }
        },
        "7161dd4c03c4481f9851a3db0a80fd07": {
          "model_module": "@jupyter-widgets/controls",
          "model_name": "FloatProgressModel",
          "model_module_version": "1.5.0",
          "state": {
            "_dom_classes": [],
            "_model_module": "@jupyter-widgets/controls",
            "_model_module_version": "1.5.0",
            "_model_name": "FloatProgressModel",
            "_view_count": null,
            "_view_module": "@jupyter-widgets/controls",
            "_view_module_version": "1.5.0",
            "_view_name": "ProgressView",
            "bar_style": "success",
            "description": "",
            "description_tooltip": null,
            "layout": "IPY_MODEL_9ab977618a934b30a2b24fa2650afec1",
            "max": 5855727,
            "min": 0,
            "orientation": "horizontal",
            "style": "IPY_MODEL_de41d087e19c4eccb6850c5e0203a92b",
            "value": 5855727
          }
        },
        "b6393beb4e274a9cab1bf9d50349860b": {
          "model_module": "@jupyter-widgets/controls",
          "model_name": "HTMLModel",
          "model_module_version": "1.5.0",
          "state": {
            "_dom_classes": [],
            "_model_module": "@jupyter-widgets/controls",
            "_model_module_version": "1.5.0",
            "_model_name": "HTMLModel",
            "_view_count": null,
            "_view_module": "@jupyter-widgets/controls",
            "_view_module_version": "1.5.0",
            "_view_name": "HTMLView",
            "description": "",
            "description_tooltip": null,
            "layout": "IPY_MODEL_e9340def68614d5d9663f32c369680fa",
            "placeholder": "​",
            "style": "IPY_MODEL_ac2e5cb1c9be432bbb542d0832bbf302",
            "value": " 5.58M/5.58M [00:01&lt;00:00, 5.74MB/s]"
          }
        },
        "ea7e5252d2a14dd8bc65f69171a00dd1": {
          "model_module": "@jupyter-widgets/base",
          "model_name": "LayoutModel",
          "model_module_version": "1.2.0",
          "state": {
            "_model_module": "@jupyter-widgets/base",
            "_model_module_version": "1.2.0",
            "_model_name": "LayoutModel",
            "_view_count": null,
            "_view_module": "@jupyter-widgets/base",
            "_view_module_version": "1.2.0",
            "_view_name": "LayoutView",
            "align_content": null,
            "align_items": null,
            "align_self": null,
            "border": null,
            "bottom": null,
            "display": null,
            "flex": null,
            "flex_flow": null,
            "grid_area": null,
            "grid_auto_columns": null,
            "grid_auto_flow": null,
            "grid_auto_rows": null,
            "grid_column": null,
            "grid_gap": null,
            "grid_row": null,
            "grid_template_areas": null,
            "grid_template_columns": null,
            "grid_template_rows": null,
            "height": null,
            "justify_content": null,
            "justify_items": null,
            "left": null,
            "margin": null,
            "max_height": null,
            "max_width": null,
            "min_height": null,
            "min_width": null,
            "object_fit": null,
            "object_position": null,
            "order": null,
            "overflow": null,
            "overflow_x": null,
            "overflow_y": null,
            "padding": null,
            "right": null,
            "top": null,
            "visibility": null,
            "width": null
          }
        },
        "7bbd53037e5c4941ad5bb42de7f9d127": {
          "model_module": "@jupyter-widgets/base",
          "model_name": "LayoutModel",
          "model_module_version": "1.2.0",
          "state": {
            "_model_module": "@jupyter-widgets/base",
            "_model_module_version": "1.2.0",
            "_model_name": "LayoutModel",
            "_view_count": null,
            "_view_module": "@jupyter-widgets/base",
            "_view_module_version": "1.2.0",
            "_view_name": "LayoutView",
            "align_content": null,
            "align_items": null,
            "align_self": null,
            "border": null,
            "bottom": null,
            "display": null,
            "flex": null,
            "flex_flow": null,
            "grid_area": null,
            "grid_auto_columns": null,
            "grid_auto_flow": null,
            "grid_auto_rows": null,
            "grid_column": null,
            "grid_gap": null,
            "grid_row": null,
            "grid_template_areas": null,
            "grid_template_columns": null,
            "grid_template_rows": null,
            "height": null,
            "justify_content": null,
            "justify_items": null,
            "left": null,
            "margin": null,
            "max_height": null,
            "max_width": null,
            "min_height": null,
            "min_width": null,
            "object_fit": null,
            "object_position": null,
            "order": null,
            "overflow": null,
            "overflow_x": null,
            "overflow_y": null,
            "padding": null,
            "right": null,
            "top": null,
            "visibility": null,
            "width": null
          }
        },
        "d9819b2d97a34977afbb4fbd43d943ca": {
          "model_module": "@jupyter-widgets/controls",
          "model_name": "DescriptionStyleModel",
          "model_module_version": "1.5.0",
          "state": {
            "_model_module": "@jupyter-widgets/controls",
            "_model_module_version": "1.5.0",
            "_model_name": "DescriptionStyleModel",
            "_view_count": null,
            "_view_module": "@jupyter-widgets/base",
            "_view_module_version": "1.2.0",
            "_view_name": "StyleView",
            "description_width": ""
          }
        },
        "9ab977618a934b30a2b24fa2650afec1": {
          "model_module": "@jupyter-widgets/base",
          "model_name": "LayoutModel",
          "model_module_version": "1.2.0",
          "state": {
            "_model_module": "@jupyter-widgets/base",
            "_model_module_version": "1.2.0",
            "_model_name": "LayoutModel",
            "_view_count": null,
            "_view_module": "@jupyter-widgets/base",
            "_view_module_version": "1.2.0",
            "_view_name": "LayoutView",
            "align_content": null,
            "align_items": null,
            "align_self": null,
            "border": null,
            "bottom": null,
            "display": null,
            "flex": null,
            "flex_flow": null,
            "grid_area": null,
            "grid_auto_columns": null,
            "grid_auto_flow": null,
            "grid_auto_rows": null,
            "grid_column": null,
            "grid_gap": null,
            "grid_row": null,
            "grid_template_areas": null,
            "grid_template_columns": null,
            "grid_template_rows": null,
            "height": null,
            "justify_content": null,
            "justify_items": null,
            "left": null,
            "margin": null,
            "max_height": null,
            "max_width": null,
            "min_height": null,
            "min_width": null,
            "object_fit": null,
            "object_position": null,
            "order": null,
            "overflow": null,
            "overflow_x": null,
            "overflow_y": null,
            "padding": null,
            "right": null,
            "top": null,
            "visibility": null,
            "width": null
          }
        },
        "de41d087e19c4eccb6850c5e0203a92b": {
          "model_module": "@jupyter-widgets/controls",
          "model_name": "ProgressStyleModel",
          "model_module_version": "1.5.0",
          "state": {
            "_model_module": "@jupyter-widgets/controls",
            "_model_module_version": "1.5.0",
            "_model_name": "ProgressStyleModel",
            "_view_count": null,
            "_view_module": "@jupyter-widgets/base",
            "_view_module_version": "1.2.0",
            "_view_name": "StyleView",
            "bar_color": null,
            "description_width": ""
          }
        },
        "e9340def68614d5d9663f32c369680fa": {
          "model_module": "@jupyter-widgets/base",
          "model_name": "LayoutModel",
          "model_module_version": "1.2.0",
          "state": {
            "_model_module": "@jupyter-widgets/base",
            "_model_module_version": "1.2.0",
            "_model_name": "LayoutModel",
            "_view_count": null,
            "_view_module": "@jupyter-widgets/base",
            "_view_module_version": "1.2.0",
            "_view_name": "LayoutView",
            "align_content": null,
            "align_items": null,
            "align_self": null,
            "border": null,
            "bottom": null,
            "display": null,
            "flex": null,
            "flex_flow": null,
            "grid_area": null,
            "grid_auto_columns": null,
            "grid_auto_flow": null,
            "grid_auto_rows": null,
            "grid_column": null,
            "grid_gap": null,
            "grid_row": null,
            "grid_template_areas": null,
            "grid_template_columns": null,
            "grid_template_rows": null,
            "height": null,
            "justify_content": null,
            "justify_items": null,
            "left": null,
            "margin": null,
            "max_height": null,
            "max_width": null,
            "min_height": null,
            "min_width": null,
            "object_fit": null,
            "object_position": null,
            "order": null,
            "overflow": null,
            "overflow_x": null,
            "overflow_y": null,
            "padding": null,
            "right": null,
            "top": null,
            "visibility": null,
            "width": null
          }
        },
        "ac2e5cb1c9be432bbb542d0832bbf302": {
          "model_module": "@jupyter-widgets/controls",
          "model_name": "DescriptionStyleModel",
          "model_module_version": "1.5.0",
          "state": {
            "_model_module": "@jupyter-widgets/controls",
            "_model_module_version": "1.5.0",
            "_model_name": "DescriptionStyleModel",
            "_view_count": null,
            "_view_module": "@jupyter-widgets/base",
            "_view_module_version": "1.2.0",
            "_view_name": "StyleView",
            "description_width": ""
          }
        }
      }
    }
  },
  "cells": [
    {
      "cell_type": "markdown",
      "metadata": {
        "id": "view-in-github",
        "colab_type": "text"
      },
      "source": [
        "<a href=\"https://colab.research.google.com/github/AnastasiiaVladimirovna/transcriptomics_homeworks/blob/main/hw14.ipynb\" target=\"_parent\"><img src=\"https://colab.research.google.com/assets/colab-badge.svg\" alt=\"Open In Colab\"/></a>"
      ]
    },
    {
      "cell_type": "code",
      "execution_count": null,
      "metadata": {
        "id": "tvTXNGyALa60"
      },
      "outputs": [],
      "source": [
        "!pip install scanpy[leiden] anndata2ri scikit-misc scvi-tools harmonypy\n",
        "\n",
        "# Необходимо, чтобы конкретно прогрузился matplotlib\n",
        "import os\n",
        "os.kill(os.getpid(), 9)"
      ]
    },
    {
      "cell_type": "code",
      "source": [
        "import scanpy as sc\n",
        "import seaborn as sns\n",
        "import matplotlib.pyplot as plt\n",
        "\n",
        "# Настраиваем эститику иллюстраций\n",
        "sc.settings.set_figure_params(dpi=150)\n",
        "sc.settings.verbosity = 3\n",
        "sns.set_style(\"ticks\")\n",
        "\n",
        "adata = sc.datasets.pbmc3k()"
      ],
      "metadata": {
        "colab": {
          "base_uri": "https://localhost:8080/",
          "height": 101,
          "referenced_widgets": [
            "2bdf0de617c74c7395461833f0a250f7",
            "f7ed839fb6694f65b5b6e7a9deadb63b",
            "7161dd4c03c4481f9851a3db0a80fd07",
            "b6393beb4e274a9cab1bf9d50349860b",
            "ea7e5252d2a14dd8bc65f69171a00dd1",
            "7bbd53037e5c4941ad5bb42de7f9d127",
            "d9819b2d97a34977afbb4fbd43d943ca",
            "9ab977618a934b30a2b24fa2650afec1",
            "de41d087e19c4eccb6850c5e0203a92b",
            "e9340def68614d5d9663f32c369680fa",
            "ac2e5cb1c9be432bbb542d0832bbf302"
          ]
        },
        "id": "22QZDRwVLkEw",
        "outputId": "1546b890-6b4b-49c9-bd3a-b4e36f182498"
      },
      "execution_count": null,
      "outputs": [
        {
          "output_type": "stream",
          "name": "stdout",
          "text": [
            "try downloading from url\n",
            "http://falexwolf.de/data/pbmc3k_raw.h5ad\n",
            "... this may take a while but only happens once\n"
          ]
        },
        {
          "output_type": "display_data",
          "data": {
            "text/plain": [
              "  0%|          | 0.00/5.58M [00:00<?, ?B/s]"
            ],
            "application/vnd.jupyter.widget-view+json": {
              "version_major": 2,
              "version_minor": 0,
              "model_id": "2bdf0de617c74c7395461833f0a250f7"
            }
          },
          "metadata": {}
        }
      ]
    },
    {
      "cell_type": "markdown",
      "source": [
        "## Часть 2"
      ],
      "metadata": {
        "id": "-kvWJShORWSU"
      }
    },
    {
      "cell_type": "code",
      "source": [
        "adata.write_h5ad(\"Azimuth.h5ad\")"
      ],
      "metadata": {
        "id": "228ZNn1zL1I-"
      },
      "execution_count": null,
      "outputs": []
    },
    {
      "cell_type": "code",
      "source": [
        "!gdown \"1jW548g6ERFS0t7NywgyjRs6VaE5QwXbg&confirm=t\"\n",
        "adata_reference = sc.read_h5ad(\"PBMC_Satija.h5ad\")\n",
        "adata_reference.layers[\"counts\"] = adata_reference.X.copy()\n",
        "adata_reference.obs[\"ref_query\"] = \"reference\""
      ],
      "metadata": {
        "colab": {
          "base_uri": "https://localhost:8080/"
        },
        "id": "qKuKFyKmMAlQ",
        "outputId": "e2530bf9-ea5b-446b-9a95-4697eee4cd3a"
      },
      "execution_count": null,
      "outputs": [
        {
          "output_type": "stream",
          "name": "stdout",
          "text": [
            "Downloading...\n",
            "From: https://drive.google.com/uc?id=1jW548g6ERFS0t7NywgyjRs6VaE5QwXbg&confirm=t\n",
            "To: /content/PBMC_Satija.h5ad\n",
            "100% 243M/243M [00:01<00:00, 130MB/s]\n"
          ]
        }
      ]
    },
    {
      "cell_type": "code",
      "source": [
        "import scanpy.external as sce"
      ],
      "metadata": {
        "id": "0Po4XHwgMge5"
      },
      "execution_count": null,
      "outputs": []
    },
    {
      "cell_type": "code",
      "source": [
        "def prediction(adata, adata_reference):\n",
        "  #готовим обе таблицы и объединяем их\n",
        "  adata.obs[\"ref_query\"] = \"query\"\n",
        "  adata.obs[\"donor\"] = \"query\"\n",
        "  # adata.obs.index = [f\"{bc.split('-')[0]}:query\" for bc in adata.obs.index]\n",
        "  # adata_reference.obs.index = [f\"{bc.split('_')[1]}:{bc.split('_')[0]}\" for bc in adata_reference.obs.index]\n",
        "  adata_concat = adata.concatenate(adata_reference, index_unique=None)\n",
        "  adata_concat.layers[\"counts\"] = adata_concat.X.copy()\n",
        "  # del adata_concat.obs[\"batch\"]\n",
        "\n",
        "  #интеграция при помощи Harmony\n",
        "  sc.pp.normalize_total(adata_concat)\n",
        "  sc.pp.log1p(adata_concat)\n",
        "  sc.pp.highly_variable_genes(\n",
        "    adata_concat,\n",
        "    n_top_genes=3000,\n",
        "    flavor=\"seurat_v3\",\n",
        "    layer=\"counts\",\n",
        "    batch_key=\"donor\"\n",
        "    )\n",
        "  sc.pp.scale(adata_concat)\n",
        "  sc.tl.pca(adata_concat)\n",
        "  sc.external.pp.harmony_integrate(adata_concat, key=\"donor\", max_iter_harmony=20)\n",
        "  sc.pp.neighbors(\n",
        "    adata_concat,\n",
        "    use_rep=\"X_pca_harmony\",\n",
        "    n_pcs=30\n",
        "    )\n",
        "  sc.tl.umap(adata_concat)\n",
        "\n",
        "  #Строим kNN-граф\n",
        "  k = 20 \n",
        "  sc.pp.neighbors(adata_concat, use_rep=\"X_pca_harmony\", n_pcs=30, n_neighbors=k, key_added=\"prediction\")\n",
        "\n",
        "  #Делаем колонку с типами клеток\n",
        "  celltype_predicted = []\n",
        "  # prediction_score = []\n",
        "  counter = 0\n",
        "  for bc in adata_concat.obs_names:\n",
        "    if adata_concat.obs.loc[bc][\"ref_query\"] == \"reference\":\n",
        "      celltype_predicted.append(float(\"NaN\"))\n",
        "      # prediction_score.append(float(\"NaN\"))\n",
        "    else:\n",
        "      neighbors_celltype = adata_concat.obs[\"celltype.l1\"][(adata_concat.obsp[\"prediction_distances\"][counter] > 0).A[0]]\n",
        "      if (~neighbors_celltype.isnull()).sum() == 0:\n",
        "        celltype_predicted.append(\"Unknown\")\n",
        "        # prediction_score.append(float(\"NaN\"))\n",
        "      else:\n",
        "        neighbors_celltype = neighbors_celltype[~neighbors_celltype.isnull()]\n",
        "        ct = neighbors_celltype.value_counts().index[0]\n",
        "        score = neighbors_celltype.value_counts()[0] / len(neighbors_celltype)\n",
        "        # prediction_score.append(score)\n",
        "        celltype_predicted.append(ct)\n",
        "    counter += 1\n",
        "  adata_concat.obs[\"celltype_predicted\"] = celltype_predicted\n",
        "  # adata_concat.obs[\"prediction_score\"] = prediction_score\n",
        "  return adata_concat[list(adata_concat.obs['ref_query'] == 'query')]"
      ],
      "metadata": {
        "id": "RIhvz4b9MEdn"
      },
      "execution_count": null,
      "outputs": []
    },
    {
      "cell_type": "code",
      "source": [
        "adata_1 = prediction(adata, adata_reference)"
      ],
      "metadata": {
        "colab": {
          "base_uri": "https://localhost:8080/"
        },
        "id": "ckOlMd6nNPcs",
        "outputId": "de9dc7d4-9c52-499c-d6ba-f469fca02632"
      },
      "execution_count": null,
      "outputs": [
        {
          "output_type": "stream",
          "name": "stderr",
          "text": [
            "/usr/local/lib/python3.8/dist-packages/anndata/_core/anndata.py:1785: FutureWarning: X.dtype being converted to np.float32 from float64. In the next version of anndata (0.9) conversion will not be automatic. Pass dtype explicitly to avoid this warning. Pass `AnnData(X, dtype=X.dtype, ...)` to get the future behavour.\n",
            "  [AnnData(sparse.csr_matrix(a.shape), obs=a.obs) for a in all_adatas],\n"
          ]
        },
        {
          "output_type": "stream",
          "name": "stdout",
          "text": [
            "normalizing counts per cell\n",
            "    finished (0:00:00)\n",
            "If you pass `n_top_genes`, all cutoffs are ignored.\n",
            "extracting highly variable genes\n",
            "--> added\n",
            "    'highly_variable', boolean vector (adata.var)\n",
            "    'highly_variable_rank', float vector (adata.var)\n",
            "    'means', float vector (adata.var)\n",
            "    'variances', float vector (adata.var)\n",
            "    'variances_norm', float vector (adata.var)\n",
            "... as `zero_center=True`, sparse input is densified and may lead to large memory consumption\n",
            "computing PCA\n",
            "    on highly variable genes\n",
            "    with n_comps=50\n",
            "    finished (0:00:14)\n"
          ]
        },
        {
          "output_type": "stream",
          "name": "stderr",
          "text": [
            "2022-12-25 21:51:52,298 - harmonypy - INFO - Computing initial centroids with sklearn.KMeans...\n",
            "INFO:harmonypy:Computing initial centroids with sklearn.KMeans...\n",
            "2022-12-25 21:52:12,667 - harmonypy - INFO - sklearn.KMeans initialization complete.\n",
            "INFO:harmonypy:sklearn.KMeans initialization complete.\n",
            "2022-12-25 21:52:12,898 - harmonypy - INFO - Iteration 1 of 20\n",
            "INFO:harmonypy:Iteration 1 of 20\n",
            "2022-12-25 21:52:27,446 - harmonypy - INFO - Iteration 2 of 20\n",
            "INFO:harmonypy:Iteration 2 of 20\n",
            "2022-12-25 21:52:39,267 - harmonypy - INFO - Iteration 3 of 20\n",
            "INFO:harmonypy:Iteration 3 of 20\n",
            "2022-12-25 21:52:51,145 - harmonypy - INFO - Iteration 4 of 20\n",
            "INFO:harmonypy:Iteration 4 of 20\n",
            "2022-12-25 21:53:02,920 - harmonypy - INFO - Iteration 5 of 20\n",
            "INFO:harmonypy:Iteration 5 of 20\n",
            "2022-12-25 21:53:14,700 - harmonypy - INFO - Iteration 6 of 20\n",
            "INFO:harmonypy:Iteration 6 of 20\n",
            "2022-12-25 21:53:26,675 - harmonypy - INFO - Converged after 6 iterations\n",
            "INFO:harmonypy:Converged after 6 iterations\n"
          ]
        },
        {
          "output_type": "stream",
          "name": "stdout",
          "text": [
            "computing neighbors\n",
            "    finished: added to `.uns['neighbors']`\n",
            "    `.obsp['distances']`, distances for each pair of neighbors\n",
            "    `.obsp['connectivities']`, weighted adjacency matrix (0:00:03)\n",
            "computing UMAP\n",
            "    finished: added\n",
            "    'X_umap', UMAP coordinates (adata.obsm) (0:00:26)\n",
            "computing neighbors\n",
            "    finished: added to `.uns['prediction']`\n",
            "    `.obsp['prediction_distances']`, distances for each pair of neighbors\n",
            "    `.obsp['prediction_connectivities']`, weighted adjacency matrix (0:00:04)\n"
          ]
        }
      ]
    },
    {
      "cell_type": "code",
      "source": [
        "adata_1.obs[\"celltype_predicted\"]"
      ],
      "metadata": {
        "colab": {
          "base_uri": "https://localhost:8080/"
        },
        "id": "S1tOTrWhSFgn",
        "outputId": "13392d4b-f2a7-4e33-cd49-1cef02e1280b"
      },
      "execution_count": null,
      "outputs": [
        {
          "output_type": "execute_result",
          "data": {
            "text/plain": [
              "AAACATACAACCAC-1    CD8 T\n",
              "AAACATTGAGCTAC-1        B\n",
              "AAACATTGATCAGC-1    CD4 T\n",
              "AAACCGTGCTTCCG-1     Mono\n",
              "AAACCGTGTATGCG-1       NK\n",
              "                    ...  \n",
              "TTTCGAACTCTCAT-1     Mono\n",
              "TTTCTACTGAGGCA-1        B\n",
              "TTTCTACTTCCTCG-1        B\n",
              "TTTGCATGAGAGGC-1        B\n",
              "TTTGCATGCCTCAC-1    CD4 T\n",
              "Name: celltype_predicted, Length: 2700, dtype: object"
            ]
          },
          "metadata": {},
          "execution_count": 17
        }
      ]
    }
  ]
}